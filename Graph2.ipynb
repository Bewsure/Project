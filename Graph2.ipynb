{
  "nbformat": 4,
  "nbformat_minor": 0,
  "metadata": {
    "colab": {
      "name": "Graph2.ipynb",
      "provenance": []
    },
    "kernelspec": {
      "name": "python3",
      "display_name": "Python 3"
    }
  },
  "cells": [
    {
      "cell_type": "code",
      "metadata": {
        "id": "j4A9Hy7KB00M"
      },
      "source": [
        "import pandas as pd\n",
        "import matplotlib as mpl\n",
        "import matplotlib.pyplot as plt"
      ],
      "execution_count": null,
      "outputs": []
    },
    {
      "cell_type": "code",
      "metadata": {
        "id": "Ihlh_eOqB1OY"
      },
      "source": [
        "!wget -q https://github.com/Phonbopit/sarabun-webfont/raw/master/fonts/thsarabunnew-webfont.ttf"
      ],
      "execution_count": null,
      "outputs": []
    },
    {
      "cell_type": "code",
      "metadata": {
        "id": "YV5zSkMMB4u-"
      },
      "source": [
        "mpl.font_manager.fontManager.addfont('thsarabunnew-webfont.ttf')"
      ],
      "execution_count": null,
      "outputs": []
    },
    {
      "cell_type": "code",
      "metadata": {
        "id": "AlrE78bPCBzb",
        "colab": {
          "base_uri": "https://localhost:8080/",
          "height": 34
        },
        "outputId": "50f5ca23-c978-44fe-deda-0c74f8f665b8"
      },
      "source": [
        "from google.colab import drive\n",
        "drive.mount('/content/drive')"
      ],
      "execution_count": null,
      "outputs": [
        {
          "output_type": "stream",
          "text": [
            "Drive already mounted at /content/drive; to attempt to forcibly remount, call drive.mount(\"/content/drive\", force_remount=True).\n"
          ],
          "name": "stdout"
        }
      ]
    },
    {
      "cell_type": "markdown",
      "metadata": {
        "id": "BKzvv2K6DB-8"
      },
      "source": [
        "# **ข้อมูลผู้รับประโยชน์จากโครงการพัฒนาที่อยู่อาศัยสำหรับผู้มีรายได้น้อยที่ *ยังไม่ได้แก้ไข***"
      ]
    },
    {
      "cell_type": "code",
      "metadata": {
        "id": "P-GY2XdZC-fW",
        "colab": {
          "base_uri": "https://localhost:8080/",
          "height": 1000
        },
        "outputId": "0be462da-2ee7-4444-cdf6-17c0786502a8"
      },
      "source": [
        "data = pd.read_csv('/content/drive/My Drive/CP462/G16 ㅡ 🧚🏻‍♀️🌷✨/original data/phuurabpraoychnokhrngkaarthii-yuu-aasaysthaaban.csv')\n",
        "data"
      ],
      "execution_count": null,
      "outputs": [
        {
          "output_type": "execute_result",
          "data": {
            "text/html": [
              "<div>\n",
              "<style scoped>\n",
              "    .dataframe tbody tr th:only-of-type {\n",
              "        vertical-align: middle;\n",
              "    }\n",
              "\n",
              "    .dataframe tbody tr th {\n",
              "        vertical-align: top;\n",
              "    }\n",
              "\n",
              "    .dataframe thead th {\n",
              "        text-align: right;\n",
              "    }\n",
              "</style>\n",
              "<table border=\"1\" class=\"dataframe\">\n",
              "  <thead>\n",
              "    <tr style=\"text-align: right;\">\n",
              "      <th></th>\n",
              "      <th>TMP_id</th>\n",
              "      <th>Project_id</th>\n",
              "      <th>ProjectType</th>\n",
              "      <th>ProjectName</th>\n",
              "      <th>ProjectYear</th>\n",
              "      <th>ProjectApproveDate</th>\n",
              "      <th>ProjectBuildingNumber</th>\n",
              "      <th>ProjectTownshipNumber</th>\n",
              "      <th>ProjectStreetName</th>\n",
              "      <th>ProjectLane</th>\n",
              "      <th>ProjectSubDistrict</th>\n",
              "      <th>ProjectSubDistrictCode</th>\n",
              "      <th>ProjectDistrict</th>\n",
              "      <th>ProjectDistrictCode</th>\n",
              "      <th>ProjectProvince</th>\n",
              "      <th>ProjectProvinceCode</th>\n",
              "      <th>ProjectRegion</th>\n",
              "      <th>CitizenID</th>\n",
              "      <th>Contact_id</th>\n",
              "      <th>Prefix</th>\n",
              "      <th>GiveName</th>\n",
              "      <th>FamilyName</th>\n",
              "      <th>BuildingNumber</th>\n",
              "      <th>TownshipNumber</th>\n",
              "      <th>Lane</th>\n",
              "      <th>StreetName</th>\n",
              "      <th>SubDistrict</th>\n",
              "      <th>SubDistrictCode</th>\n",
              "      <th>District</th>\n",
              "      <th>DistrictCode</th>\n",
              "      <th>Province</th>\n",
              "      <th>ProvinceCode</th>\n",
              "      <th>Region</th>\n",
              "      <th>Department</th>\n",
              "      <th>ProjectOffer</th>\n",
              "      <th>UpdateDate</th>\n",
              "    </tr>\n",
              "  </thead>\n",
              "  <tbody>\n",
              "    <tr>\n",
              "      <th>0</th>\n",
              "      <td>HS-62-0070</td>\n",
              "      <td>PT044862-04976</td>\n",
              "      <td>โครงการบ้านมั่นคง</td>\n",
              "      <td>กลุ่มออมทรัพย์บ้านมั่นคงชนบทบ้านเสลียงแห้ง 3 ม.1</td>\n",
              "      <td>2562</td>\n",
              "      <td>5/22/2019</td>\n",
              "      <td>11</td>\n",
              "      <td>1</td>\n",
              "      <td>-</td>\n",
              "      <td>-</td>\n",
              "      <td>หนองแม่นา</td>\n",
              "      <td>671106</td>\n",
              "      <td>เขาค้อ</td>\n",
              "      <td>6711</td>\n",
              "      <td>เพชรบูรณ์</td>\n",
              "      <td>67</td>\n",
              "      <td>ภาคเหนือ</td>\n",
              "      <td>*************</td>\n",
              "      <td>551291860</td>\n",
              "      <td>นาง</td>\n",
              "      <td>ปัญญา</td>\n",
              "      <td>*******</td>\n",
              "      <td>*******</td>\n",
              "      <td>*******</td>\n",
              "      <td>*******</td>\n",
              "      <td>*******</td>\n",
              "      <td>หนองแม่นา</td>\n",
              "      <td>671106</td>\n",
              "      <td>เขาค้อ</td>\n",
              "      <td>6711</td>\n",
              "      <td>เพชรบูรณ์</td>\n",
              "      <td>67</td>\n",
              "      <td>ภาคเหนือ</td>\n",
              "      <td>สำนักงานภาคเหนือ</td>\n",
              "      <td>ว่าที่ ร.ต.</td>\n",
              "      <td>7/9/2019</td>\n",
              "    </tr>\n",
              "    <tr>\n",
              "      <th>1</th>\n",
              "      <td>HS-62-0070</td>\n",
              "      <td>PT044862-04976</td>\n",
              "      <td>โครงการบ้านมั่นคง</td>\n",
              "      <td>กลุ่มออมทรัพย์บ้านมั่นคงชนบทบ้านเสลียงแห้ง 3 ม.1</td>\n",
              "      <td>2562</td>\n",
              "      <td>5/22/2019</td>\n",
              "      <td>11</td>\n",
              "      <td>1</td>\n",
              "      <td>-</td>\n",
              "      <td>-</td>\n",
              "      <td>หนองแม่นา</td>\n",
              "      <td>671106</td>\n",
              "      <td>เขาค้อ</td>\n",
              "      <td>6711</td>\n",
              "      <td>เพชรบูรณ์</td>\n",
              "      <td>67</td>\n",
              "      <td>ภาคเหนือ</td>\n",
              "      <td>*************</td>\n",
              "      <td>551291871</td>\n",
              "      <td>นาง</td>\n",
              "      <td>สนิท</td>\n",
              "      <td>*******</td>\n",
              "      <td>*******</td>\n",
              "      <td>*******</td>\n",
              "      <td>*******</td>\n",
              "      <td>*******</td>\n",
              "      <td>หนองแม่นา</td>\n",
              "      <td>671106</td>\n",
              "      <td>เขาค้อ</td>\n",
              "      <td>6711</td>\n",
              "      <td>เพชรบูรณ์</td>\n",
              "      <td>67</td>\n",
              "      <td>ภาคเหนือ</td>\n",
              "      <td>สำนักงานภาคเหนือ</td>\n",
              "      <td>ว่าที่ ร.ต.</td>\n",
              "      <td>7/9/2019</td>\n",
              "    </tr>\n",
              "    <tr>\n",
              "      <th>2</th>\n",
              "      <td>HS-62-0070</td>\n",
              "      <td>PT044862-04976</td>\n",
              "      <td>โครงการบ้านมั่นคง</td>\n",
              "      <td>กลุ่มออมทรัพย์บ้านมั่นคงชนบทบ้านเสลียงแห้ง 3 ม.1</td>\n",
              "      <td>2562</td>\n",
              "      <td>5/22/2019</td>\n",
              "      <td>11</td>\n",
              "      <td>1</td>\n",
              "      <td>-</td>\n",
              "      <td>-</td>\n",
              "      <td>หนองแม่นา</td>\n",
              "      <td>671106</td>\n",
              "      <td>เขาค้อ</td>\n",
              "      <td>6711</td>\n",
              "      <td>เพชรบูรณ์</td>\n",
              "      <td>67</td>\n",
              "      <td>ภาคเหนือ</td>\n",
              "      <td>*************</td>\n",
              "      <td>551291712</td>\n",
              "      <td>นาย</td>\n",
              "      <td>ประจวบ</td>\n",
              "      <td>*******</td>\n",
              "      <td>*******</td>\n",
              "      <td>*******</td>\n",
              "      <td>*******</td>\n",
              "      <td>*******</td>\n",
              "      <td>หนองแม่นา</td>\n",
              "      <td>671106</td>\n",
              "      <td>เขาค้อ</td>\n",
              "      <td>6711</td>\n",
              "      <td>เพชรบูรณ์</td>\n",
              "      <td>67</td>\n",
              "      <td>ภาคเหนือ</td>\n",
              "      <td>สำนักงานภาคเหนือ</td>\n",
              "      <td>ว่าที่ ร.ต.</td>\n",
              "      <td>7/9/2019</td>\n",
              "    </tr>\n",
              "    <tr>\n",
              "      <th>3</th>\n",
              "      <td>HS-62-0070</td>\n",
              "      <td>PT044862-04976</td>\n",
              "      <td>โครงการบ้านมั่นคง</td>\n",
              "      <td>กลุ่มออมทรัพย์บ้านมั่นคงชนบทบ้านเสลียงแห้ง 3 ม.1</td>\n",
              "      <td>2562</td>\n",
              "      <td>5/22/2019</td>\n",
              "      <td>11</td>\n",
              "      <td>1</td>\n",
              "      <td>-</td>\n",
              "      <td>-</td>\n",
              "      <td>หนองแม่นา</td>\n",
              "      <td>671106</td>\n",
              "      <td>เขาค้อ</td>\n",
              "      <td>6711</td>\n",
              "      <td>เพชรบูรณ์</td>\n",
              "      <td>67</td>\n",
              "      <td>ภาคเหนือ</td>\n",
              "      <td>*************</td>\n",
              "      <td>551291804</td>\n",
              "      <td>นาง</td>\n",
              "      <td>ประคอง</td>\n",
              "      <td>*******</td>\n",
              "      <td>*******</td>\n",
              "      <td>*******</td>\n",
              "      <td>*******</td>\n",
              "      <td>*******</td>\n",
              "      <td>หนองแม่นา</td>\n",
              "      <td>671106</td>\n",
              "      <td>เขาค้อ</td>\n",
              "      <td>6711</td>\n",
              "      <td>เพชรบูรณ์</td>\n",
              "      <td>67</td>\n",
              "      <td>ภาคเหนือ</td>\n",
              "      <td>สำนักงานภาคเหนือ</td>\n",
              "      <td>ว่าที่ ร.ต.</td>\n",
              "      <td>7/9/2019</td>\n",
              "    </tr>\n",
              "    <tr>\n",
              "      <th>4</th>\n",
              "      <td>HS-62-0070</td>\n",
              "      <td>PT044862-04976</td>\n",
              "      <td>โครงการบ้านมั่นคง</td>\n",
              "      <td>กลุ่มออมทรัพย์บ้านมั่นคงชนบทบ้านเสลียงแห้ง 3 ม.1</td>\n",
              "      <td>2562</td>\n",
              "      <td>5/22/2019</td>\n",
              "      <td>11</td>\n",
              "      <td>1</td>\n",
              "      <td>-</td>\n",
              "      <td>-</td>\n",
              "      <td>หนองแม่นา</td>\n",
              "      <td>671106</td>\n",
              "      <td>เขาค้อ</td>\n",
              "      <td>6711</td>\n",
              "      <td>เพชรบูรณ์</td>\n",
              "      <td>67</td>\n",
              "      <td>ภาคเหนือ</td>\n",
              "      <td>*************</td>\n",
              "      <td>550825687</td>\n",
              "      <td>นาง</td>\n",
              "      <td>สุภาภรณ์</td>\n",
              "      <td>*******</td>\n",
              "      <td>*******</td>\n",
              "      <td>*******</td>\n",
              "      <td>*******</td>\n",
              "      <td>*******</td>\n",
              "      <td>หนองแม่นา</td>\n",
              "      <td>671106</td>\n",
              "      <td>เขาค้อ</td>\n",
              "      <td>6711</td>\n",
              "      <td>เพชรบูรณ์</td>\n",
              "      <td>67</td>\n",
              "      <td>ภาคเหนือ</td>\n",
              "      <td>สำนักงานภาคเหนือ</td>\n",
              "      <td>ว่าที่ ร.ต.</td>\n",
              "      <td>7/9/2019</td>\n",
              "    </tr>\n",
              "    <tr>\n",
              "      <th>...</th>\n",
              "      <td>...</td>\n",
              "      <td>...</td>\n",
              "      <td>...</td>\n",
              "      <td>...</td>\n",
              "      <td>...</td>\n",
              "      <td>...</td>\n",
              "      <td>...</td>\n",
              "      <td>...</td>\n",
              "      <td>...</td>\n",
              "      <td>...</td>\n",
              "      <td>...</td>\n",
              "      <td>...</td>\n",
              "      <td>...</td>\n",
              "      <td>...</td>\n",
              "      <td>...</td>\n",
              "      <td>...</td>\n",
              "      <td>...</td>\n",
              "      <td>...</td>\n",
              "      <td>...</td>\n",
              "      <td>...</td>\n",
              "      <td>...</td>\n",
              "      <td>...</td>\n",
              "      <td>...</td>\n",
              "      <td>...</td>\n",
              "      <td>...</td>\n",
              "      <td>...</td>\n",
              "      <td>...</td>\n",
              "      <td>...</td>\n",
              "      <td>...</td>\n",
              "      <td>...</td>\n",
              "      <td>...</td>\n",
              "      <td>...</td>\n",
              "      <td>...</td>\n",
              "      <td>...</td>\n",
              "      <td>...</td>\n",
              "      <td>...</td>\n",
              "    </tr>\n",
              "    <tr>\n",
              "      <th>34039</th>\n",
              "      <td>P71-63-3163</td>\n",
              "      <td>PT095163-09102</td>\n",
              "      <td>โครงการบ้านพอเพียง</td>\n",
              "      <td>โครงการบ้านพอเพียง ตำบลหนองกุงทับม้า</td>\n",
              "      <td>2563</td>\n",
              "      <td>7/2/2020</td>\n",
              "      <td>214</td>\n",
              "      <td>5</td>\n",
              "      <td>NaN</td>\n",
              "      <td>NaN</td>\n",
              "      <td>หนองกุงทับม้า</td>\n",
              "      <td>411001</td>\n",
              "      <td>วังสามหมอ</td>\n",
              "      <td>4110</td>\n",
              "      <td>อุดรธานี</td>\n",
              "      <td>41</td>\n",
              "      <td>ภาคตะวันออกเฉียงเหนือ</td>\n",
              "      <td>*************</td>\n",
              "      <td>551350746</td>\n",
              "      <td>นาง</td>\n",
              "      <td>สอน</td>\n",
              "      <td>*******</td>\n",
              "      <td>*******</td>\n",
              "      <td>*******</td>\n",
              "      <td>*******</td>\n",
              "      <td>*******</td>\n",
              "      <td>หนองกุงทับม้า</td>\n",
              "      <td>411001</td>\n",
              "      <td>วังสามหมอ</td>\n",
              "      <td>4110</td>\n",
              "      <td>อุดรธานี</td>\n",
              "      <td>41</td>\n",
              "      <td>ภาคตะวันออกเฉียงเหนือ</td>\n",
              "      <td>สำนักงานภาคตะวันออกเฉียงเหนือ</td>\n",
              "      <td>นายสถาพร สม</td>\n",
              "      <td>7/17/2020</td>\n",
              "    </tr>\n",
              "    <tr>\n",
              "      <th>34040</th>\n",
              "      <td>P71-63-3163</td>\n",
              "      <td>PT095163-09102</td>\n",
              "      <td>โครงการบ้านพอเพียง</td>\n",
              "      <td>โครงการบ้านพอเพียง ตำบลหนองกุงทับม้า</td>\n",
              "      <td>2563</td>\n",
              "      <td>7/2/2020</td>\n",
              "      <td>214</td>\n",
              "      <td>5</td>\n",
              "      <td>NaN</td>\n",
              "      <td>NaN</td>\n",
              "      <td>หนองกุงทับม้า</td>\n",
              "      <td>411001</td>\n",
              "      <td>วังสามหมอ</td>\n",
              "      <td>4110</td>\n",
              "      <td>อุดรธานี</td>\n",
              "      <td>41</td>\n",
              "      <td>ภาคตะวันออกเฉียงเหนือ</td>\n",
              "      <td>*************</td>\n",
              "      <td>551350743</td>\n",
              "      <td>นาย</td>\n",
              "      <td>สำราญ</td>\n",
              "      <td>*******</td>\n",
              "      <td>*******</td>\n",
              "      <td>*******</td>\n",
              "      <td>*******</td>\n",
              "      <td>*******</td>\n",
              "      <td>หนองกุงทับม้า</td>\n",
              "      <td>411001</td>\n",
              "      <td>วังสามหมอ</td>\n",
              "      <td>4110</td>\n",
              "      <td>อุดรธานี</td>\n",
              "      <td>41</td>\n",
              "      <td>ภาคตะวันออกเฉียงเหนือ</td>\n",
              "      <td>สำนักงานภาคตะวันออกเฉียงเหนือ</td>\n",
              "      <td>นายสถาพร สม</td>\n",
              "      <td>7/17/2020</td>\n",
              "    </tr>\n",
              "    <tr>\n",
              "      <th>34041</th>\n",
              "      <td>P71-63-3163</td>\n",
              "      <td>PT095163-09102</td>\n",
              "      <td>โครงการบ้านพอเพียง</td>\n",
              "      <td>โครงการบ้านพอเพียง ตำบลหนองกุงทับม้า</td>\n",
              "      <td>2563</td>\n",
              "      <td>7/2/2020</td>\n",
              "      <td>214</td>\n",
              "      <td>5</td>\n",
              "      <td>NaN</td>\n",
              "      <td>NaN</td>\n",
              "      <td>หนองกุงทับม้า</td>\n",
              "      <td>411001</td>\n",
              "      <td>วังสามหมอ</td>\n",
              "      <td>4110</td>\n",
              "      <td>อุดรธานี</td>\n",
              "      <td>41</td>\n",
              "      <td>ภาคตะวันออกเฉียงเหนือ</td>\n",
              "      <td>*************</td>\n",
              "      <td>551350742</td>\n",
              "      <td>นาย</td>\n",
              "      <td>ลำเพลิน</td>\n",
              "      <td>*******</td>\n",
              "      <td>*******</td>\n",
              "      <td>*******</td>\n",
              "      <td>*******</td>\n",
              "      <td>*******</td>\n",
              "      <td>หนองกุงทับม้า</td>\n",
              "      <td>411001</td>\n",
              "      <td>วังสามหมอ</td>\n",
              "      <td>4110</td>\n",
              "      <td>อุดรธานี</td>\n",
              "      <td>41</td>\n",
              "      <td>ภาคตะวันออกเฉียงเหนือ</td>\n",
              "      <td>สำนักงานภาคตะวันออกเฉียงเหนือ</td>\n",
              "      <td>นายสถาพร สม</td>\n",
              "      <td>7/17/2020</td>\n",
              "    </tr>\n",
              "    <tr>\n",
              "      <th>34042</th>\n",
              "      <td>P71-63-3163</td>\n",
              "      <td>PT095163-09102</td>\n",
              "      <td>โครงการบ้านพอเพียง</td>\n",
              "      <td>โครงการบ้านพอเพียง ตำบลหนองกุงทับม้า</td>\n",
              "      <td>2563</td>\n",
              "      <td>7/2/2020</td>\n",
              "      <td>214</td>\n",
              "      <td>5</td>\n",
              "      <td>NaN</td>\n",
              "      <td>NaN</td>\n",
              "      <td>หนองกุงทับม้า</td>\n",
              "      <td>411001</td>\n",
              "      <td>วังสามหมอ</td>\n",
              "      <td>4110</td>\n",
              "      <td>อุดรธานี</td>\n",
              "      <td>41</td>\n",
              "      <td>ภาคตะวันออกเฉียงเหนือ</td>\n",
              "      <td>*************</td>\n",
              "      <td>551350769</td>\n",
              "      <td>นาง</td>\n",
              "      <td>ทอง</td>\n",
              "      <td>*******</td>\n",
              "      <td>*******</td>\n",
              "      <td>*******</td>\n",
              "      <td>*******</td>\n",
              "      <td>*******</td>\n",
              "      <td>หนองกุงทับม้า</td>\n",
              "      <td>411001</td>\n",
              "      <td>วังสามหมอ</td>\n",
              "      <td>4110</td>\n",
              "      <td>อุดรธานี</td>\n",
              "      <td>41</td>\n",
              "      <td>ภาคตะวันออกเฉียงเหนือ</td>\n",
              "      <td>สำนักงานภาคตะวันออกเฉียงเหนือ</td>\n",
              "      <td>นายสถาพร สม</td>\n",
              "      <td>7/17/2020</td>\n",
              "    </tr>\n",
              "    <tr>\n",
              "      <th>34043</th>\n",
              "      <td>P71-63-3163</td>\n",
              "      <td>PT095163-09102</td>\n",
              "      <td>โครงการบ้านพอเพียง</td>\n",
              "      <td>โครงการบ้านพอเพียง ตำบลหนองกุงทับม้า</td>\n",
              "      <td>2563</td>\n",
              "      <td>7/2/2020</td>\n",
              "      <td>214</td>\n",
              "      <td>5</td>\n",
              "      <td>NaN</td>\n",
              "      <td>NaN</td>\n",
              "      <td>หนองกุงทับม้า</td>\n",
              "      <td>411001</td>\n",
              "      <td>วังสามหมอ</td>\n",
              "      <td>4110</td>\n",
              "      <td>อุดรธานี</td>\n",
              "      <td>41</td>\n",
              "      <td>ภาคตะวันออกเฉียงเหนือ</td>\n",
              "      <td>*************</td>\n",
              "      <td>551350741</td>\n",
              "      <td>นาง</td>\n",
              "      <td>หมื่น</td>\n",
              "      <td>*******</td>\n",
              "      <td>*******</td>\n",
              "      <td>*******</td>\n",
              "      <td>*******</td>\n",
              "      <td>*******</td>\n",
              "      <td>หนองกุงทับม้า</td>\n",
              "      <td>411001</td>\n",
              "      <td>วังสามหมอ</td>\n",
              "      <td>4110</td>\n",
              "      <td>อุดรธานี</td>\n",
              "      <td>41</td>\n",
              "      <td>ภาคตะวันออกเฉียงเหนือ</td>\n",
              "      <td>สำนักงานภาคตะวันออกเฉียงเหนือ</td>\n",
              "      <td>นายสถาพร สม</td>\n",
              "      <td>7/17/2020</td>\n",
              "    </tr>\n",
              "  </tbody>\n",
              "</table>\n",
              "<p>34044 rows × 36 columns</p>\n",
              "</div>"
            ],
            "text/plain": [
              "            TMP_id      Project_id  ... ProjectOffer UpdateDate\n",
              "0       HS-62-0070  PT044862-04976  ...  ว่าที่ ร.ต.   7/9/2019\n",
              "1       HS-62-0070  PT044862-04976  ...  ว่าที่ ร.ต.   7/9/2019\n",
              "2       HS-62-0070  PT044862-04976  ...  ว่าที่ ร.ต.   7/9/2019\n",
              "3       HS-62-0070  PT044862-04976  ...  ว่าที่ ร.ต.   7/9/2019\n",
              "4       HS-62-0070  PT044862-04976  ...  ว่าที่ ร.ต.   7/9/2019\n",
              "...            ...             ...  ...          ...        ...\n",
              "34039  P71-63-3163  PT095163-09102  ...  นายสถาพร สม  7/17/2020\n",
              "34040  P71-63-3163  PT095163-09102  ...  นายสถาพร สม  7/17/2020\n",
              "34041  P71-63-3163  PT095163-09102  ...  นายสถาพร สม  7/17/2020\n",
              "34042  P71-63-3163  PT095163-09102  ...  นายสถาพร สม  7/17/2020\n",
              "34043  P71-63-3163  PT095163-09102  ...  นายสถาพร สม  7/17/2020\n",
              "\n",
              "[34044 rows x 36 columns]"
            ]
          },
          "metadata": {
            "tags": []
          },
          "execution_count": 379
        }
      ]
    },
    {
      "cell_type": "markdown",
      "metadata": {
        "id": "jrRq4iGMDsk-"
      },
      "source": [
        "# **ข้อมูลผู้รับประโยชน์จากโครงการพัฒนาที่อยู่อาศัยสำหรับผู้มีรายได้น้อยที่ *ทำการดร็อปคอลัมน์ที่ไม่ต้องการออกแล้ว***"
      ]
    },
    {
      "cell_type": "code",
      "metadata": {
        "id": "5BwhuAnpD9tb",
        "colab": {
          "base_uri": "https://localhost:8080/",
          "height": 402
        },
        "outputId": "426d37a9-5b3a-47dd-cc1c-89012cded846"
      },
      "source": [
        "newdata = data.drop(columns=['TMP_id','ProjectSubDistrictCode','ProjectProvinceCode','ProjectDistrictCode','Project_id','ProjectType','ProjectLane', 'ProjectStreetName','CitizenID','FamilyName','BuildingNumber','TownshipNumber','Lane','StreetName','Contact_id','ProjectApproveDate','ProjectBuildingNumber','ProjectTownshipNumber','SubDistrictCode','DistrictCode','ProvinceCode','ProjectRegion','Department','ProjectOffer','UpdateDate','ProjectSubDistrict','ProjectDistrict','ProjectProvince'])\n",
        "newdata"
      ],
      "execution_count": null,
      "outputs": [
        {
          "output_type": "execute_result",
          "data": {
            "text/html": [
              "<div>\n",
              "<style scoped>\n",
              "    .dataframe tbody tr th:only-of-type {\n",
              "        vertical-align: middle;\n",
              "    }\n",
              "\n",
              "    .dataframe tbody tr th {\n",
              "        vertical-align: top;\n",
              "    }\n",
              "\n",
              "    .dataframe thead th {\n",
              "        text-align: right;\n",
              "    }\n",
              "</style>\n",
              "<table border=\"1\" class=\"dataframe\">\n",
              "  <thead>\n",
              "    <tr style=\"text-align: right;\">\n",
              "      <th></th>\n",
              "      <th>ProjectName</th>\n",
              "      <th>ProjectYear</th>\n",
              "      <th>Prefix</th>\n",
              "      <th>GiveName</th>\n",
              "      <th>SubDistrict</th>\n",
              "      <th>District</th>\n",
              "      <th>Province</th>\n",
              "      <th>Region</th>\n",
              "    </tr>\n",
              "  </thead>\n",
              "  <tbody>\n",
              "    <tr>\n",
              "      <th>0</th>\n",
              "      <td>กลุ่มออมทรัพย์บ้านมั่นคงชนบทบ้านเสลียงแห้ง 3 ม.1</td>\n",
              "      <td>2562</td>\n",
              "      <td>นาง</td>\n",
              "      <td>ปัญญา</td>\n",
              "      <td>หนองแม่นา</td>\n",
              "      <td>เขาค้อ</td>\n",
              "      <td>เพชรบูรณ์</td>\n",
              "      <td>ภาคเหนือ</td>\n",
              "    </tr>\n",
              "    <tr>\n",
              "      <th>1</th>\n",
              "      <td>กลุ่มออมทรัพย์บ้านมั่นคงชนบทบ้านเสลียงแห้ง 3 ม.1</td>\n",
              "      <td>2562</td>\n",
              "      <td>นาง</td>\n",
              "      <td>สนิท</td>\n",
              "      <td>หนองแม่นา</td>\n",
              "      <td>เขาค้อ</td>\n",
              "      <td>เพชรบูรณ์</td>\n",
              "      <td>ภาคเหนือ</td>\n",
              "    </tr>\n",
              "    <tr>\n",
              "      <th>2</th>\n",
              "      <td>กลุ่มออมทรัพย์บ้านมั่นคงชนบทบ้านเสลียงแห้ง 3 ม.1</td>\n",
              "      <td>2562</td>\n",
              "      <td>นาย</td>\n",
              "      <td>ประจวบ</td>\n",
              "      <td>หนองแม่นา</td>\n",
              "      <td>เขาค้อ</td>\n",
              "      <td>เพชรบูรณ์</td>\n",
              "      <td>ภาคเหนือ</td>\n",
              "    </tr>\n",
              "    <tr>\n",
              "      <th>3</th>\n",
              "      <td>กลุ่มออมทรัพย์บ้านมั่นคงชนบทบ้านเสลียงแห้ง 3 ม.1</td>\n",
              "      <td>2562</td>\n",
              "      <td>นาง</td>\n",
              "      <td>ประคอง</td>\n",
              "      <td>หนองแม่นา</td>\n",
              "      <td>เขาค้อ</td>\n",
              "      <td>เพชรบูรณ์</td>\n",
              "      <td>ภาคเหนือ</td>\n",
              "    </tr>\n",
              "    <tr>\n",
              "      <th>4</th>\n",
              "      <td>กลุ่มออมทรัพย์บ้านมั่นคงชนบทบ้านเสลียงแห้ง 3 ม.1</td>\n",
              "      <td>2562</td>\n",
              "      <td>นาง</td>\n",
              "      <td>สุภาภรณ์</td>\n",
              "      <td>หนองแม่นา</td>\n",
              "      <td>เขาค้อ</td>\n",
              "      <td>เพชรบูรณ์</td>\n",
              "      <td>ภาคเหนือ</td>\n",
              "    </tr>\n",
              "    <tr>\n",
              "      <th>...</th>\n",
              "      <td>...</td>\n",
              "      <td>...</td>\n",
              "      <td>...</td>\n",
              "      <td>...</td>\n",
              "      <td>...</td>\n",
              "      <td>...</td>\n",
              "      <td>...</td>\n",
              "      <td>...</td>\n",
              "    </tr>\n",
              "    <tr>\n",
              "      <th>34039</th>\n",
              "      <td>โครงการบ้านพอเพียง ตำบลหนองกุงทับม้า</td>\n",
              "      <td>2563</td>\n",
              "      <td>นาง</td>\n",
              "      <td>สอน</td>\n",
              "      <td>หนองกุงทับม้า</td>\n",
              "      <td>วังสามหมอ</td>\n",
              "      <td>อุดรธานี</td>\n",
              "      <td>ภาคตะวันออกเฉียงเหนือ</td>\n",
              "    </tr>\n",
              "    <tr>\n",
              "      <th>34040</th>\n",
              "      <td>โครงการบ้านพอเพียง ตำบลหนองกุงทับม้า</td>\n",
              "      <td>2563</td>\n",
              "      <td>นาย</td>\n",
              "      <td>สำราญ</td>\n",
              "      <td>หนองกุงทับม้า</td>\n",
              "      <td>วังสามหมอ</td>\n",
              "      <td>อุดรธานี</td>\n",
              "      <td>ภาคตะวันออกเฉียงเหนือ</td>\n",
              "    </tr>\n",
              "    <tr>\n",
              "      <th>34041</th>\n",
              "      <td>โครงการบ้านพอเพียง ตำบลหนองกุงทับม้า</td>\n",
              "      <td>2563</td>\n",
              "      <td>นาย</td>\n",
              "      <td>ลำเพลิน</td>\n",
              "      <td>หนองกุงทับม้า</td>\n",
              "      <td>วังสามหมอ</td>\n",
              "      <td>อุดรธานี</td>\n",
              "      <td>ภาคตะวันออกเฉียงเหนือ</td>\n",
              "    </tr>\n",
              "    <tr>\n",
              "      <th>34042</th>\n",
              "      <td>โครงการบ้านพอเพียง ตำบลหนองกุงทับม้า</td>\n",
              "      <td>2563</td>\n",
              "      <td>นาง</td>\n",
              "      <td>ทอง</td>\n",
              "      <td>หนองกุงทับม้า</td>\n",
              "      <td>วังสามหมอ</td>\n",
              "      <td>อุดรธานี</td>\n",
              "      <td>ภาคตะวันออกเฉียงเหนือ</td>\n",
              "    </tr>\n",
              "    <tr>\n",
              "      <th>34043</th>\n",
              "      <td>โครงการบ้านพอเพียง ตำบลหนองกุงทับม้า</td>\n",
              "      <td>2563</td>\n",
              "      <td>นาง</td>\n",
              "      <td>หมื่น</td>\n",
              "      <td>หนองกุงทับม้า</td>\n",
              "      <td>วังสามหมอ</td>\n",
              "      <td>อุดรธานี</td>\n",
              "      <td>ภาคตะวันออกเฉียงเหนือ</td>\n",
              "    </tr>\n",
              "  </tbody>\n",
              "</table>\n",
              "<p>34044 rows × 8 columns</p>\n",
              "</div>"
            ],
            "text/plain": [
              "                                            ProjectName  ...                 Region\n",
              "0      กลุ่มออมทรัพย์บ้านมั่นคงชนบทบ้านเสลียงแห้ง 3 ม.1  ...               ภาคเหนือ\n",
              "1      กลุ่มออมทรัพย์บ้านมั่นคงชนบทบ้านเสลียงแห้ง 3 ม.1  ...               ภาคเหนือ\n",
              "2      กลุ่มออมทรัพย์บ้านมั่นคงชนบทบ้านเสลียงแห้ง 3 ม.1  ...               ภาคเหนือ\n",
              "3      กลุ่มออมทรัพย์บ้านมั่นคงชนบทบ้านเสลียงแห้ง 3 ม.1  ...               ภาคเหนือ\n",
              "4      กลุ่มออมทรัพย์บ้านมั่นคงชนบทบ้านเสลียงแห้ง 3 ม.1  ...               ภาคเหนือ\n",
              "...                                                 ...  ...                    ...\n",
              "34039              โครงการบ้านพอเพียง ตำบลหนองกุงทับม้า  ...  ภาคตะวันออกเฉียงเหนือ\n",
              "34040              โครงการบ้านพอเพียง ตำบลหนองกุงทับม้า  ...  ภาคตะวันออกเฉียงเหนือ\n",
              "34041              โครงการบ้านพอเพียง ตำบลหนองกุงทับม้า  ...  ภาคตะวันออกเฉียงเหนือ\n",
              "34042              โครงการบ้านพอเพียง ตำบลหนองกุงทับม้า  ...  ภาคตะวันออกเฉียงเหนือ\n",
              "34043              โครงการบ้านพอเพียง ตำบลหนองกุงทับม้า  ...  ภาคตะวันออกเฉียงเหนือ\n",
              "\n",
              "[34044 rows x 8 columns]"
            ]
          },
          "metadata": {
            "tags": []
          },
          "execution_count": 380
        }
      ]
    },
    {
      "cell_type": "markdown",
      "metadata": {
        "id": "r-FO5mKLEBQt"
      },
      "source": [
        "**นับจำนวนผู้รับประโยชน์จากโครงการพัฒนาที่อยู่อาศัยสำหรับผู้มีรายได้น้อยทั้งหมดในแต่ละภาค**"
      ]
    },
    {
      "cell_type": "code",
      "metadata": {
        "id": "1hNaRiX3JEkA",
        "colab": {
          "base_uri": "https://localhost:8080/",
          "height": 118
        },
        "outputId": "367c1f5b-dbc5-4eee-de44-1ffc7f8c25ae"
      },
      "source": [
        "dataregioncount = newdata.Region.value_counts()\n",
        "dataregioncount"
      ],
      "execution_count": null,
      "outputs": [
        {
          "output_type": "execute_result",
          "data": {
            "text/plain": [
              "ภาคเหนือ                          8799\n",
              "ภาคใต้                            6596\n",
              "ภาคตะวันออกเฉียงเหนือ             6545\n",
              "ภาคกรุงเทพฯ ปริมณฑลและตะวันออก    6489\n",
              "ภาคกลางและตะวันตก                 5615\n",
              "Name: Region, dtype: int64"
            ]
          },
          "metadata": {
            "tags": []
          },
          "execution_count": 381
        }
      ]
    },
    {
      "cell_type": "code",
      "metadata": {
        "id": "g0ZpKu0EEMu2",
        "colab": {
          "base_uri": "https://localhost:8080/",
          "height": 195
        },
        "outputId": "4a7d7e41-febe-4795-9f37-32cfbcf132b5"
      },
      "source": [
        "dataregioncount = pd.DataFrame(dataregioncount)\n",
        "dataregioncount"
      ],
      "execution_count": null,
      "outputs": [
        {
          "output_type": "execute_result",
          "data": {
            "text/html": [
              "<div>\n",
              "<style scoped>\n",
              "    .dataframe tbody tr th:only-of-type {\n",
              "        vertical-align: middle;\n",
              "    }\n",
              "\n",
              "    .dataframe tbody tr th {\n",
              "        vertical-align: top;\n",
              "    }\n",
              "\n",
              "    .dataframe thead th {\n",
              "        text-align: right;\n",
              "    }\n",
              "</style>\n",
              "<table border=\"1\" class=\"dataframe\">\n",
              "  <thead>\n",
              "    <tr style=\"text-align: right;\">\n",
              "      <th></th>\n",
              "      <th>Region</th>\n",
              "    </tr>\n",
              "  </thead>\n",
              "  <tbody>\n",
              "    <tr>\n",
              "      <th>ภาคเหนือ</th>\n",
              "      <td>8799</td>\n",
              "    </tr>\n",
              "    <tr>\n",
              "      <th>ภาคใต้</th>\n",
              "      <td>6596</td>\n",
              "    </tr>\n",
              "    <tr>\n",
              "      <th>ภาคตะวันออกเฉียงเหนือ</th>\n",
              "      <td>6545</td>\n",
              "    </tr>\n",
              "    <tr>\n",
              "      <th>ภาคกรุงเทพฯ ปริมณฑลและตะวันออก</th>\n",
              "      <td>6489</td>\n",
              "    </tr>\n",
              "    <tr>\n",
              "      <th>ภาคกลางและตะวันตก</th>\n",
              "      <td>5615</td>\n",
              "    </tr>\n",
              "  </tbody>\n",
              "</table>\n",
              "</div>"
            ],
            "text/plain": [
              "                                Region\n",
              "ภาคเหนือ                          8799\n",
              "ภาคใต้                            6596\n",
              "ภาคตะวันออกเฉียงเหนือ             6545\n",
              "ภาคกรุงเทพฯ ปริมณฑลและตะวันออก    6489\n",
              "ภาคกลางและตะวันตก                 5615"
            ]
          },
          "metadata": {
            "tags": []
          },
          "execution_count": 382
        }
      ]
    },
    {
      "cell_type": "markdown",
      "metadata": {
        "id": "5yZFntUBEc_2"
      },
      "source": [
        "**นับจำนวนผู้รับประโยชน์จากโครงการพัฒนาที่อยู่อาศัยสำหรับผู้มีรายได้น้อยเฉลี่ยในแต่ละภาค**"
      ]
    },
    {
      "cell_type": "code",
      "metadata": {
        "id": "TU_OISxzEb5j",
        "colab": {
          "base_uri": "https://localhost:8080/",
          "height": 195
        },
        "outputId": "c6610e68-8546-46ba-84ae-a3bfce24e11c"
      },
      "source": [
        "dataregioncount = dataregioncount.apply(lambda x:((x*100)/34044).astype(float))\n",
        "dataregioncount"
      ],
      "execution_count": null,
      "outputs": [
        {
          "output_type": "execute_result",
          "data": {
            "text/html": [
              "<div>\n",
              "<style scoped>\n",
              "    .dataframe tbody tr th:only-of-type {\n",
              "        vertical-align: middle;\n",
              "    }\n",
              "\n",
              "    .dataframe tbody tr th {\n",
              "        vertical-align: top;\n",
              "    }\n",
              "\n",
              "    .dataframe thead th {\n",
              "        text-align: right;\n",
              "    }\n",
              "</style>\n",
              "<table border=\"1\" class=\"dataframe\">\n",
              "  <thead>\n",
              "    <tr style=\"text-align: right;\">\n",
              "      <th></th>\n",
              "      <th>Region</th>\n",
              "    </tr>\n",
              "  </thead>\n",
              "  <tbody>\n",
              "    <tr>\n",
              "      <th>ภาคเหนือ</th>\n",
              "      <td>25.845964</td>\n",
              "    </tr>\n",
              "    <tr>\n",
              "      <th>ภาคใต้</th>\n",
              "      <td>19.374927</td>\n",
              "    </tr>\n",
              "    <tr>\n",
              "      <th>ภาคตะวันออกเฉียงเหนือ</th>\n",
              "      <td>19.225120</td>\n",
              "    </tr>\n",
              "    <tr>\n",
              "      <th>ภาคกรุงเทพฯ ปริมณฑลและตะวันออก</th>\n",
              "      <td>19.060627</td>\n",
              "    </tr>\n",
              "    <tr>\n",
              "      <th>ภาคกลางและตะวันตก</th>\n",
              "      <td>16.493362</td>\n",
              "    </tr>\n",
              "  </tbody>\n",
              "</table>\n",
              "</div>"
            ],
            "text/plain": [
              "                                   Region\n",
              "ภาคเหนือ                        25.845964\n",
              "ภาคใต้                          19.374927\n",
              "ภาคตะวันออกเฉียงเหนือ           19.225120\n",
              "ภาคกรุงเทพฯ ปริมณฑลและตะวันออก  19.060627\n",
              "ภาคกลางและตะวันตก               16.493362"
            ]
          },
          "metadata": {
            "tags": []
          },
          "execution_count": 383
        }
      ]
    },
    {
      "cell_type": "markdown",
      "metadata": {
        "id": "a96Pc5VsLHsK"
      },
      "source": [
        "**กราฟนับจำนวนผู้รับประโยชน์จากโครงการพัฒนาที่อยู่อาศัยสำหรับผู้มีรายได้น้อยเฉลี่ยในแต่ละภาค**"
      ]
    },
    {
      "cell_type": "code",
      "metadata": {
        "id": "SUfZyvpTLC2p",
        "colab": {
          "base_uri": "https://localhost:8080/",
          "height": 526
        },
        "outputId": "83f28882-805e-4069-a6d6-4227776e132c"
      },
      "source": [
        "dataregioncount.plot(kind='bar',title = 'กราฟนับจำนวนผู้รับประโยชน์จากโครงการพัฒนาที่อยู่อาศัยสำหรับผู้มีรายได้น้อยเฉลี่ยในแต่ละภาค',color=tuple([\"lightskyblue\"]))\n",
        "plt.style.use('ggplot')\n",
        "mpl.rc('font',family='TH Sarabun New',size=15)"
      ],
      "execution_count": null,
      "outputs": [
        {
          "output_type": "display_data",
          "data": {
            "image/png": "[encoded data removed]",
            "text/plain": [
              "<Figure size 432x288 with 1 Axes>"
            ]
          },
          "metadata": {
            "tags": []
          }
        }
      ]
    },
    {
      "cell_type": "markdown",
      "metadata": {
        "id": "bcK5XKYUbgrQ"
      },
      "source": [
        "# **กราฟผู้รับประโยชน์จากโครงการพัฒนาที่อยู่อาศัยสำหรับผู้มีรายได้น้อยในปี 2562**"
      ]
    },
    {
      "cell_type": "markdown",
      "metadata": {
        "id": "wf6FDmAuvtYl"
      },
      "source": [
        "**ตารางผู้รับประโยชน์จากโครงการพัฒนาที่อยู่อาศัยสำหรับผู้มีรายได้น้อยในปี 2562**"
      ]
    },
    {
      "cell_type": "code",
      "metadata": {
        "id": "Ro6oJNAMbs6e",
        "colab": {
          "base_uri": "https://localhost:8080/",
          "height": 402
        },
        "outputId": "da6a9edc-9a7f-4cdf-b1c5-6ac39f7370af"
      },
      "source": [
        "data2562 = newdata.loc[data['ProjectYear'] == 2562]\n",
        "data2562"
      ],
      "execution_count": null,
      "outputs": [
        {
          "output_type": "execute_result",
          "data": {
            "text/html": [
              "<div>\n",
              "<style scoped>\n",
              "    .dataframe tbody tr th:only-of-type {\n",
              "        vertical-align: middle;\n",
              "    }\n",
              "\n",
              "    .dataframe tbody tr th {\n",
              "        vertical-align: top;\n",
              "    }\n",
              "\n",
              "    .dataframe thead th {\n",
              "        text-align: right;\n",
              "    }\n",
              "</style>\n",
              "<table border=\"1\" class=\"dataframe\">\n",
              "  <thead>\n",
              "    <tr style=\"text-align: right;\">\n",
              "      <th></th>\n",
              "      <th>ProjectName</th>\n",
              "      <th>ProjectYear</th>\n",
              "      <th>Prefix</th>\n",
              "      <th>GiveName</th>\n",
              "      <th>SubDistrict</th>\n",
              "      <th>District</th>\n",
              "      <th>Province</th>\n",
              "      <th>Region</th>\n",
              "    </tr>\n",
              "  </thead>\n",
              "  <tbody>\n",
              "    <tr>\n",
              "      <th>0</th>\n",
              "      <td>กลุ่มออมทรัพย์บ้านมั่นคงชนบทบ้านเสลียงแห้ง 3 ม.1</td>\n",
              "      <td>2562</td>\n",
              "      <td>นาง</td>\n",
              "      <td>ปัญญา</td>\n",
              "      <td>หนองแม่นา</td>\n",
              "      <td>เขาค้อ</td>\n",
              "      <td>เพชรบูรณ์</td>\n",
              "      <td>ภาคเหนือ</td>\n",
              "    </tr>\n",
              "    <tr>\n",
              "      <th>1</th>\n",
              "      <td>กลุ่มออมทรัพย์บ้านมั่นคงชนบทบ้านเสลียงแห้ง 3 ม.1</td>\n",
              "      <td>2562</td>\n",
              "      <td>นาง</td>\n",
              "      <td>สนิท</td>\n",
              "      <td>หนองแม่นา</td>\n",
              "      <td>เขาค้อ</td>\n",
              "      <td>เพชรบูรณ์</td>\n",
              "      <td>ภาคเหนือ</td>\n",
              "    </tr>\n",
              "    <tr>\n",
              "      <th>2</th>\n",
              "      <td>กลุ่มออมทรัพย์บ้านมั่นคงชนบทบ้านเสลียงแห้ง 3 ม.1</td>\n",
              "      <td>2562</td>\n",
              "      <td>นาย</td>\n",
              "      <td>ประจวบ</td>\n",
              "      <td>หนองแม่นา</td>\n",
              "      <td>เขาค้อ</td>\n",
              "      <td>เพชรบูรณ์</td>\n",
              "      <td>ภาคเหนือ</td>\n",
              "    </tr>\n",
              "    <tr>\n",
              "      <th>3</th>\n",
              "      <td>กลุ่มออมทรัพย์บ้านมั่นคงชนบทบ้านเสลียงแห้ง 3 ม.1</td>\n",
              "      <td>2562</td>\n",
              "      <td>นาง</td>\n",
              "      <td>ประคอง</td>\n",
              "      <td>หนองแม่นา</td>\n",
              "      <td>เขาค้อ</td>\n",
              "      <td>เพชรบูรณ์</td>\n",
              "      <td>ภาคเหนือ</td>\n",
              "    </tr>\n",
              "    <tr>\n",
              "      <th>4</th>\n",
              "      <td>กลุ่มออมทรัพย์บ้านมั่นคงชนบทบ้านเสลียงแห้ง 3 ม.1</td>\n",
              "      <td>2562</td>\n",
              "      <td>นาง</td>\n",
              "      <td>สุภาภรณ์</td>\n",
              "      <td>หนองแม่นา</td>\n",
              "      <td>เขาค้อ</td>\n",
              "      <td>เพชรบูรณ์</td>\n",
              "      <td>ภาคเหนือ</td>\n",
              "    </tr>\n",
              "    <tr>\n",
              "      <th>...</th>\n",
              "      <td>...</td>\n",
              "      <td>...</td>\n",
              "      <td>...</td>\n",
              "      <td>...</td>\n",
              "      <td>...</td>\n",
              "      <td>...</td>\n",
              "      <td>...</td>\n",
              "      <td>...</td>\n",
              "    </tr>\n",
              "    <tr>\n",
              "      <th>29655</th>\n",
              "      <td>โครงการบ้านพอเพียงชนบทตำบลโพนทอง อำเภอเชียงยืน</td>\n",
              "      <td>2562</td>\n",
              "      <td>นาง</td>\n",
              "      <td>หนู</td>\n",
              "      <td>โพนทอง</td>\n",
              "      <td>เชียงยืน</td>\n",
              "      <td>มหาสารคาม</td>\n",
              "      <td>ภาคตะวันออกเฉียงเหนือ</td>\n",
              "    </tr>\n",
              "    <tr>\n",
              "      <th>29656</th>\n",
              "      <td>โครงการบ้านพอเพียงชนบทตำบลโพนทอง อำเภอเชียงยืน</td>\n",
              "      <td>2562</td>\n",
              "      <td>นาง</td>\n",
              "      <td>พุธ</td>\n",
              "      <td>โพนทอง</td>\n",
              "      <td>เชียงยืน</td>\n",
              "      <td>มหาสารคาม</td>\n",
              "      <td>ภาคตะวันออกเฉียงเหนือ</td>\n",
              "    </tr>\n",
              "    <tr>\n",
              "      <th>29657</th>\n",
              "      <td>โครงการบ้านพอเพียงชนบทตำบลดงเมือง</td>\n",
              "      <td>2562</td>\n",
              "      <td>นาย</td>\n",
              "      <td>มังกร</td>\n",
              "      <td>ดงเมือง</td>\n",
              "      <td>ยางสีสุราช</td>\n",
              "      <td>มหาสารคาม</td>\n",
              "      <td>ภาคตะวันออกเฉียงเหนือ</td>\n",
              "    </tr>\n",
              "    <tr>\n",
              "      <th>29658</th>\n",
              "      <td>โครงการบ้านพอเพียงชนบทตำบลดอนยาง</td>\n",
              "      <td>2562</td>\n",
              "      <td>นาง</td>\n",
              "      <td>ประไพ</td>\n",
              "      <td>ดอนยาง</td>\n",
              "      <td>ปะทิว</td>\n",
              "      <td>ชุมพร</td>\n",
              "      <td>ภาคใต้</td>\n",
              "    </tr>\n",
              "    <tr>\n",
              "      <th>29659</th>\n",
              "      <td>โครงการบ้านพอเพียงชนบทตำบลโคกม่วง</td>\n",
              "      <td>2562</td>\n",
              "      <td>นางสาว</td>\n",
              "      <td>ศุภภาตา</td>\n",
              "      <td>โคกม่วง</td>\n",
              "      <td>เขาชัยสน</td>\n",
              "      <td>พัทลุง</td>\n",
              "      <td>ภาคใต้</td>\n",
              "    </tr>\n",
              "  </tbody>\n",
              "</table>\n",
              "<p>17096 rows × 8 columns</p>\n",
              "</div>"
            ],
            "text/plain": [
              "                                            ProjectName  ...                 Region\n",
              "0      กลุ่มออมทรัพย์บ้านมั่นคงชนบทบ้านเสลียงแห้ง 3 ม.1  ...               ภาคเหนือ\n",
              "1      กลุ่มออมทรัพย์บ้านมั่นคงชนบทบ้านเสลียงแห้ง 3 ม.1  ...               ภาคเหนือ\n",
              "2      กลุ่มออมทรัพย์บ้านมั่นคงชนบทบ้านเสลียงแห้ง 3 ม.1  ...               ภาคเหนือ\n",
              "3      กลุ่มออมทรัพย์บ้านมั่นคงชนบทบ้านเสลียงแห้ง 3 ม.1  ...               ภาคเหนือ\n",
              "4      กลุ่มออมทรัพย์บ้านมั่นคงชนบทบ้านเสลียงแห้ง 3 ม.1  ...               ภาคเหนือ\n",
              "...                                                 ...  ...                    ...\n",
              "29655    โครงการบ้านพอเพียงชนบทตำบลโพนทอง อำเภอเชียงยืน  ...  ภาคตะวันออกเฉียงเหนือ\n",
              "29656    โครงการบ้านพอเพียงชนบทตำบลโพนทอง อำเภอเชียงยืน  ...  ภาคตะวันออกเฉียงเหนือ\n",
              "29657                 โครงการบ้านพอเพียงชนบทตำบลดงเมือง  ...  ภาคตะวันออกเฉียงเหนือ\n",
              "29658                  โครงการบ้านพอเพียงชนบทตำบลดอนยาง  ...                 ภาคใต้\n",
              "29659                 โครงการบ้านพอเพียงชนบทตำบลโคกม่วง  ...                 ภาคใต้\n",
              "\n",
              "[17096 rows x 8 columns]"
            ]
          },
          "metadata": {
            "tags": []
          },
          "execution_count": 385
        }
      ]
    },
    {
      "cell_type": "markdown",
      "metadata": {
        "id": "m6m2yqVAb6yR"
      },
      "source": [
        "**นับจำนวนผู้รับประโยชน์จากโครงการพัฒนาที่อยู่อาศัยสำหรับผู้มีรายได้น้อยทั้งหมดในแต่ละภาคของปี 2562**"
      ]
    },
    {
      "cell_type": "code",
      "metadata": {
        "id": "WHqj4rcYb2T-",
        "colab": {
          "base_uri": "https://localhost:8080/",
          "height": 118
        },
        "outputId": "917b2c30-11ad-48cc-ce1e-17c7d6df5c8b"
      },
      "source": [
        "data2562 = data2562.Region.value_counts()\n",
        "data2562 "
      ],
      "execution_count": null,
      "outputs": [
        {
          "output_type": "execute_result",
          "data": {
            "text/plain": [
              "ภาคเหนือ                          4487\n",
              "ภาคใต้                            4011\n",
              "ภาคกรุงเทพฯ ปริมณฑลและตะวันออก    3365\n",
              "ภาคตะวันออกเฉียงเหนือ             2870\n",
              "ภาคกลางและตะวันตก                 2363\n",
              "Name: Region, dtype: int64"
            ]
          },
          "metadata": {
            "tags": []
          },
          "execution_count": 386
        }
      ]
    },
    {
      "cell_type": "code",
      "metadata": {
        "id": "bdqqp1FZcNlH",
        "colab": {
          "base_uri": "https://localhost:8080/",
          "height": 195
        },
        "outputId": "5752262b-1382-4ef3-dafc-47f2dcca476f"
      },
      "source": [
        "data2562 = pd.DataFrame(data2562)\n",
        "data2562"
      ],
      "execution_count": null,
      "outputs": [
        {
          "output_type": "execute_result",
          "data": {
            "text/html": [
              "<div>\n",
              "<style scoped>\n",
              "    .dataframe tbody tr th:only-of-type {\n",
              "        vertical-align: middle;\n",
              "    }\n",
              "\n",
              "    .dataframe tbody tr th {\n",
              "        vertical-align: top;\n",
              "    }\n",
              "\n",
              "    .dataframe thead th {\n",
              "        text-align: right;\n",
              "    }\n",
              "</style>\n",
              "<table border=\"1\" class=\"dataframe\">\n",
              "  <thead>\n",
              "    <tr style=\"text-align: right;\">\n",
              "      <th></th>\n",
              "      <th>Region</th>\n",
              "    </tr>\n",
              "  </thead>\n",
              "  <tbody>\n",
              "    <tr>\n",
              "      <th>ภาคเหนือ</th>\n",
              "      <td>4487</td>\n",
              "    </tr>\n",
              "    <tr>\n",
              "      <th>ภาคใต้</th>\n",
              "      <td>4011</td>\n",
              "    </tr>\n",
              "    <tr>\n",
              "      <th>ภาคกรุงเทพฯ ปริมณฑลและตะวันออก</th>\n",
              "      <td>3365</td>\n",
              "    </tr>\n",
              "    <tr>\n",
              "      <th>ภาคตะวันออกเฉียงเหนือ</th>\n",
              "      <td>2870</td>\n",
              "    </tr>\n",
              "    <tr>\n",
              "      <th>ภาคกลางและตะวันตก</th>\n",
              "      <td>2363</td>\n",
              "    </tr>\n",
              "  </tbody>\n",
              "</table>\n",
              "</div>"
            ],
            "text/plain": [
              "                                Region\n",
              "ภาคเหนือ                          4487\n",
              "ภาคใต้                            4011\n",
              "ภาคกรุงเทพฯ ปริมณฑลและตะวันออก    3365\n",
              "ภาคตะวันออกเฉียงเหนือ             2870\n",
              "ภาคกลางและตะวันตก                 2363"
            ]
          },
          "metadata": {
            "tags": []
          },
          "execution_count": 387
        }
      ]
    },
    {
      "cell_type": "markdown",
      "metadata": {
        "id": "MJsivp-5cGDV"
      },
      "source": [
        "**นับจำนวนผู้รับประโยชน์จากโครงการพัฒนาที่อยู่อาศัยสำหรับผู้มีรายได้น้อยเฉลี่ยในแต่ละภาคของปี 2562**"
      ]
    },
    {
      "cell_type": "code",
      "metadata": {
        "id": "tCcJPhEEcCWd",
        "colab": {
          "base_uri": "https://localhost:8080/",
          "height": 195
        },
        "outputId": "e6e8b8e1-7cd7-477a-9f6e-28a3f60ab7b9"
      },
      "source": [
        "data2562 = data2562.apply(lambda x:((x*100)/17096).astype(float))\n",
        "data2562"
      ],
      "execution_count": null,
      "outputs": [
        {
          "output_type": "execute_result",
          "data": {
            "text/html": [
              "<div>\n",
              "<style scoped>\n",
              "    .dataframe tbody tr th:only-of-type {\n",
              "        vertical-align: middle;\n",
              "    }\n",
              "\n",
              "    .dataframe tbody tr th {\n",
              "        vertical-align: top;\n",
              "    }\n",
              "\n",
              "    .dataframe thead th {\n",
              "        text-align: right;\n",
              "    }\n",
              "</style>\n",
              "<table border=\"1\" class=\"dataframe\">\n",
              "  <thead>\n",
              "    <tr style=\"text-align: right;\">\n",
              "      <th></th>\n",
              "      <th>Region</th>\n",
              "    </tr>\n",
              "  </thead>\n",
              "  <tbody>\n",
              "    <tr>\n",
              "      <th>ภาคเหนือ</th>\n",
              "      <td>26.245905</td>\n",
              "    </tr>\n",
              "    <tr>\n",
              "      <th>ภาคใต้</th>\n",
              "      <td>23.461628</td>\n",
              "    </tr>\n",
              "    <tr>\n",
              "      <th>ภาคกรุงเทพฯ ปริมณฑลและตะวันออก</th>\n",
              "      <td>19.682967</td>\n",
              "    </tr>\n",
              "    <tr>\n",
              "      <th>ภาคตะวันออกเฉียงเหนือ</th>\n",
              "      <td>16.787553</td>\n",
              "    </tr>\n",
              "    <tr>\n",
              "      <th>ภาคกลางและตะวันตก</th>\n",
              "      <td>13.821947</td>\n",
              "    </tr>\n",
              "  </tbody>\n",
              "</table>\n",
              "</div>"
            ],
            "text/plain": [
              "                                   Region\n",
              "ภาคเหนือ                        26.245905\n",
              "ภาคใต้                          23.461628\n",
              "ภาคกรุงเทพฯ ปริมณฑลและตะวันออก  19.682967\n",
              "ภาคตะวันออกเฉียงเหนือ           16.787553\n",
              "ภาคกลางและตะวันตก               13.821947"
            ]
          },
          "metadata": {
            "tags": []
          },
          "execution_count": 388
        }
      ]
    },
    {
      "cell_type": "markdown",
      "metadata": {
        "id": "k3vT7dsleo0K"
      },
      "source": [
        "**เปลี่ยนชื่อ column จาก \"Region\" เป็น \"ปี2562\"**"
      ]
    },
    {
      "cell_type": "code",
      "metadata": {
        "id": "S9HiABZGd26e",
        "colab": {
          "base_uri": "https://localhost:8080/",
          "height": 195
        },
        "outputId": "622427a9-d04c-4ae9-8b32-14cc37f8641f"
      },
      "source": [
        "data2562.rename(columns={'Region':'ปี2562'}, inplace=True)\n",
        "data2562"
      ],
      "execution_count": null,
      "outputs": [
        {
          "output_type": "execute_result",
          "data": {
            "text/html": [
              "<div>\n",
              "<style scoped>\n",
              "    .dataframe tbody tr th:only-of-type {\n",
              "        vertical-align: middle;\n",
              "    }\n",
              "\n",
              "    .dataframe tbody tr th {\n",
              "        vertical-align: top;\n",
              "    }\n",
              "\n",
              "    .dataframe thead th {\n",
              "        text-align: right;\n",
              "    }\n",
              "</style>\n",
              "<table border=\"1\" class=\"dataframe\">\n",
              "  <thead>\n",
              "    <tr style=\"text-align: right;\">\n",
              "      <th></th>\n",
              "      <th>ปี2562</th>\n",
              "    </tr>\n",
              "  </thead>\n",
              "  <tbody>\n",
              "    <tr>\n",
              "      <th>ภาคเหนือ</th>\n",
              "      <td>26.245905</td>\n",
              "    </tr>\n",
              "    <tr>\n",
              "      <th>ภาคใต้</th>\n",
              "      <td>23.461628</td>\n",
              "    </tr>\n",
              "    <tr>\n",
              "      <th>ภาคกรุงเทพฯ ปริมณฑลและตะวันออก</th>\n",
              "      <td>19.682967</td>\n",
              "    </tr>\n",
              "    <tr>\n",
              "      <th>ภาคตะวันออกเฉียงเหนือ</th>\n",
              "      <td>16.787553</td>\n",
              "    </tr>\n",
              "    <tr>\n",
              "      <th>ภาคกลางและตะวันตก</th>\n",
              "      <td>13.821947</td>\n",
              "    </tr>\n",
              "  </tbody>\n",
              "</table>\n",
              "</div>"
            ],
            "text/plain": [
              "                                   ปี2562\n",
              "ภาคเหนือ                        26.245905\n",
              "ภาคใต้                          23.461628\n",
              "ภาคกรุงเทพฯ ปริมณฑลและตะวันออก  19.682967\n",
              "ภาคตะวันออกเฉียงเหนือ           16.787553\n",
              "ภาคกลางและตะวันตก               13.821947"
            ]
          },
          "metadata": {
            "tags": []
          },
          "execution_count": 389
        }
      ]
    },
    {
      "cell_type": "markdown",
      "metadata": {
        "id": "j8DPmzOpcVmv"
      },
      "source": [
        "**กราฟนับจำนวนผู้รับประโยชน์จากโครงการพัฒนาที่อยู่อาศัยสำหรับผู้มีรายได้น้อยเฉลี่ยในแต่ละภาคของปี 2562**"
      ]
    },
    {
      "cell_type": "code",
      "metadata": {
        "id": "lMaRUpTUcSTj",
        "colab": {
          "base_uri": "https://localhost:8080/",
          "height": 526
        },
        "outputId": "008d0f7d-15e5-476e-f9ef-1c4868b5c960"
      },
      "source": [
        "data2562.plot(kind='bar',title = 'กราฟนับจำนวนผู้รับประโยชน์จากโครงการพัฒนาที่อยู่อาศัยสำหรับผู้มีรายได้น้อยเฉลี่ยในแต่ละภาคของปี 2562',color=tuple([\"mediumspringgreen\"]))\n",
        "plt.style.use('ggplot')\n",
        "mpl.rc('font',family='TH Sarabun New',size=15)"
      ],
      "execution_count": null,
      "outputs": [
        {
          "output_type": "display_data",
          "data": {
            "image/png": "[encoded data removed]",
            "text/plain": [
              "<Figure size 432x288 with 1 Axes>"
            ]
          },
          "metadata": {
            "tags": []
          }
        }
      ]
    },
    {
      "cell_type": "markdown",
      "metadata": {
        "id": "IZDkNPYlcz7t"
      },
      "source": [
        "# **กราฟผู้รับประโยชน์จากโครงการพัฒนาที่อยู่อาศัยสำหรับผู้มีรายได้น้อยในปี 2563**"
      ]
    },
    {
      "cell_type": "markdown",
      "metadata": {
        "id": "e5U36S2Wvytf"
      },
      "source": [
        "**ตารางผู้รับประโยชน์จากโครงการพัฒนาที่อยู่อาศัยสำหรับผู้มีรายได้น้อยในปี 2562**"
      ]
    },
    {
      "cell_type": "code",
      "metadata": {
        "id": "x47dnyKyc6km",
        "colab": {
          "base_uri": "https://localhost:8080/",
          "height": 402
        },
        "outputId": "425192d6-def7-410e-9cae-3dc31dc7bdaf"
      },
      "source": [
        "data2563 = newdata.loc[data['ProjectYear'] == 2563]\n",
        "data2563"
      ],
      "execution_count": null,
      "outputs": [
        {
          "output_type": "execute_result",
          "data": {
            "text/html": [
              "<div>\n",
              "<style scoped>\n",
              "    .dataframe tbody tr th:only-of-type {\n",
              "        vertical-align: middle;\n",
              "    }\n",
              "\n",
              "    .dataframe tbody tr th {\n",
              "        vertical-align: top;\n",
              "    }\n",
              "\n",
              "    .dataframe thead th {\n",
              "        text-align: right;\n",
              "    }\n",
              "</style>\n",
              "<table border=\"1\" class=\"dataframe\">\n",
              "  <thead>\n",
              "    <tr style=\"text-align: right;\">\n",
              "      <th></th>\n",
              "      <th>ProjectName</th>\n",
              "      <th>ProjectYear</th>\n",
              "      <th>Prefix</th>\n",
              "      <th>GiveName</th>\n",
              "      <th>SubDistrict</th>\n",
              "      <th>District</th>\n",
              "      <th>Province</th>\n",
              "      <th>Region</th>\n",
              "    </tr>\n",
              "  </thead>\n",
              "  <tbody>\n",
              "    <tr>\n",
              "      <th>1699</th>\n",
              "      <td>ชุมชนบ้านพรสวรรค์ จ.เชียงใหม่</td>\n",
              "      <td>2563</td>\n",
              "      <td>นาย</td>\n",
              "      <td>ประทวน</td>\n",
              "      <td>ข่วงเปา</td>\n",
              "      <td>จอมทอง</td>\n",
              "      <td>เชียงใหม่</td>\n",
              "      <td>ภาคเหนือ</td>\n",
              "    </tr>\n",
              "    <tr>\n",
              "      <th>1700</th>\n",
              "      <td>ชุมชนบ้านพรสวรรค์ จ.เชียงใหม่</td>\n",
              "      <td>2563</td>\n",
              "      <td>นางสาว</td>\n",
              "      <td>แก้วภา</td>\n",
              "      <td>ข่วงเปา</td>\n",
              "      <td>จอมทอง</td>\n",
              "      <td>เชียงใหม่</td>\n",
              "      <td>ภาคเหนือ</td>\n",
              "    </tr>\n",
              "    <tr>\n",
              "      <th>1701</th>\n",
              "      <td>ชุมชนบ้านพรสวรรค์ จ.เชียงใหม่</td>\n",
              "      <td>2563</td>\n",
              "      <td>นาง</td>\n",
              "      <td>พรพิศ</td>\n",
              "      <td>ข่วงเปา</td>\n",
              "      <td>จอมทอง</td>\n",
              "      <td>เชียงใหม่</td>\n",
              "      <td>ภาคเหนือ</td>\n",
              "    </tr>\n",
              "    <tr>\n",
              "      <th>1702</th>\n",
              "      <td>ชุมชนบ้านพรสวรรค์ จ.เชียงใหม่</td>\n",
              "      <td>2563</td>\n",
              "      <td>นาย</td>\n",
              "      <td>อุดม</td>\n",
              "      <td>ข่วงเปา</td>\n",
              "      <td>จอมทอง</td>\n",
              "      <td>เชียงใหม่</td>\n",
              "      <td>ภาคเหนือ</td>\n",
              "    </tr>\n",
              "    <tr>\n",
              "      <th>1703</th>\n",
              "      <td>ชุมชนบ้านพรสวรรค์ จ.เชียงใหม่</td>\n",
              "      <td>2563</td>\n",
              "      <td>นาย</td>\n",
              "      <td>อนันต์</td>\n",
              "      <td>ข่วงเปา</td>\n",
              "      <td>จอมทอง</td>\n",
              "      <td>เชียงใหม่</td>\n",
              "      <td>ภาคเหนือ</td>\n",
              "    </tr>\n",
              "    <tr>\n",
              "      <th>...</th>\n",
              "      <td>...</td>\n",
              "      <td>...</td>\n",
              "      <td>...</td>\n",
              "      <td>...</td>\n",
              "      <td>...</td>\n",
              "      <td>...</td>\n",
              "      <td>...</td>\n",
              "      <td>...</td>\n",
              "    </tr>\n",
              "    <tr>\n",
              "      <th>34039</th>\n",
              "      <td>โครงการบ้านพอเพียง ตำบลหนองกุงทับม้า</td>\n",
              "      <td>2563</td>\n",
              "      <td>นาง</td>\n",
              "      <td>สอน</td>\n",
              "      <td>หนองกุงทับม้า</td>\n",
              "      <td>วังสามหมอ</td>\n",
              "      <td>อุดรธานี</td>\n",
              "      <td>ภาคตะวันออกเฉียงเหนือ</td>\n",
              "    </tr>\n",
              "    <tr>\n",
              "      <th>34040</th>\n",
              "      <td>โครงการบ้านพอเพียง ตำบลหนองกุงทับม้า</td>\n",
              "      <td>2563</td>\n",
              "      <td>นาย</td>\n",
              "      <td>สำราญ</td>\n",
              "      <td>หนองกุงทับม้า</td>\n",
              "      <td>วังสามหมอ</td>\n",
              "      <td>อุดรธานี</td>\n",
              "      <td>ภาคตะวันออกเฉียงเหนือ</td>\n",
              "    </tr>\n",
              "    <tr>\n",
              "      <th>34041</th>\n",
              "      <td>โครงการบ้านพอเพียง ตำบลหนองกุงทับม้า</td>\n",
              "      <td>2563</td>\n",
              "      <td>นาย</td>\n",
              "      <td>ลำเพลิน</td>\n",
              "      <td>หนองกุงทับม้า</td>\n",
              "      <td>วังสามหมอ</td>\n",
              "      <td>อุดรธานี</td>\n",
              "      <td>ภาคตะวันออกเฉียงเหนือ</td>\n",
              "    </tr>\n",
              "    <tr>\n",
              "      <th>34042</th>\n",
              "      <td>โครงการบ้านพอเพียง ตำบลหนองกุงทับม้า</td>\n",
              "      <td>2563</td>\n",
              "      <td>นาง</td>\n",
              "      <td>ทอง</td>\n",
              "      <td>หนองกุงทับม้า</td>\n",
              "      <td>วังสามหมอ</td>\n",
              "      <td>อุดรธานี</td>\n",
              "      <td>ภาคตะวันออกเฉียงเหนือ</td>\n",
              "    </tr>\n",
              "    <tr>\n",
              "      <th>34043</th>\n",
              "      <td>โครงการบ้านพอเพียง ตำบลหนองกุงทับม้า</td>\n",
              "      <td>2563</td>\n",
              "      <td>นาง</td>\n",
              "      <td>หมื่น</td>\n",
              "      <td>หนองกุงทับม้า</td>\n",
              "      <td>วังสามหมอ</td>\n",
              "      <td>อุดรธานี</td>\n",
              "      <td>ภาคตะวันออกเฉียงเหนือ</td>\n",
              "    </tr>\n",
              "  </tbody>\n",
              "</table>\n",
              "<p>16948 rows × 8 columns</p>\n",
              "</div>"
            ],
            "text/plain": [
              "                                ProjectName  ...                 Region\n",
              "1699          ชุมชนบ้านพรสวรรค์ จ.เชียงใหม่  ...               ภาคเหนือ\n",
              "1700          ชุมชนบ้านพรสวรรค์ จ.เชียงใหม่  ...               ภาคเหนือ\n",
              "1701          ชุมชนบ้านพรสวรรค์ จ.เชียงใหม่  ...               ภาคเหนือ\n",
              "1702          ชุมชนบ้านพรสวรรค์ จ.เชียงใหม่  ...               ภาคเหนือ\n",
              "1703          ชุมชนบ้านพรสวรรค์ จ.เชียงใหม่  ...               ภาคเหนือ\n",
              "...                                     ...  ...                    ...\n",
              "34039  โครงการบ้านพอเพียง ตำบลหนองกุงทับม้า  ...  ภาคตะวันออกเฉียงเหนือ\n",
              "34040  โครงการบ้านพอเพียง ตำบลหนองกุงทับม้า  ...  ภาคตะวันออกเฉียงเหนือ\n",
              "34041  โครงการบ้านพอเพียง ตำบลหนองกุงทับม้า  ...  ภาคตะวันออกเฉียงเหนือ\n",
              "34042  โครงการบ้านพอเพียง ตำบลหนองกุงทับม้า  ...  ภาคตะวันออกเฉียงเหนือ\n",
              "34043  โครงการบ้านพอเพียง ตำบลหนองกุงทับม้า  ...  ภาคตะวันออกเฉียงเหนือ\n",
              "\n",
              "[16948 rows x 8 columns]"
            ]
          },
          "metadata": {
            "tags": []
          },
          "execution_count": 344
        }
      ]
    },
    {
      "cell_type": "markdown",
      "metadata": {
        "id": "zyViPIxOdbIf"
      },
      "source": [
        "**นับจำนวนผู้รับประโยชน์จากโครงการพัฒนาที่อยู่อาศัยสำหรับผู้มีรายได้น้อยทั้งหมดในแต่ละภาคของปี 2563**"
      ]
    },
    {
      "cell_type": "code",
      "metadata": {
        "id": "fRK8SBiQdSjs",
        "colab": {
          "base_uri": "https://localhost:8080/",
          "height": 118
        },
        "outputId": "74db9535-689b-4770-90bb-de8bd8140781"
      },
      "source": [
        "data2563 = data2563.Region.value_counts()\n",
        "data2563 "
      ],
      "execution_count": null,
      "outputs": [
        {
          "output_type": "execute_result",
          "data": {
            "text/plain": [
              "ภาคเหนือ                          4312\n",
              "ภาคตะวันออกเฉียงเหนือ             3675\n",
              "ภาคกลางและตะวันตก                 3252\n",
              "ภาคกรุงเทพฯ ปริมณฑลและตะวันออก    3124\n",
              "ภาคใต้                            2585\n",
              "Name: Region, dtype: int64"
            ]
          },
          "metadata": {
            "tags": []
          },
          "execution_count": 345
        }
      ]
    },
    {
      "cell_type": "code",
      "metadata": {
        "id": "FLGzwbzzdjmw",
        "colab": {
          "base_uri": "https://localhost:8080/",
          "height": 195
        },
        "outputId": "51a661e8-dd1b-41f6-9b44-1eeb16aeacb6"
      },
      "source": [
        "data2563 = pd.DataFrame(data2563)\n",
        "data2563"
      ],
      "execution_count": null,
      "outputs": [
        {
          "output_type": "execute_result",
          "data": {
            "text/html": [
              "<div>\n",
              "<style scoped>\n",
              "    .dataframe tbody tr th:only-of-type {\n",
              "        vertical-align: middle;\n",
              "    }\n",
              "\n",
              "    .dataframe tbody tr th {\n",
              "        vertical-align: top;\n",
              "    }\n",
              "\n",
              "    .dataframe thead th {\n",
              "        text-align: right;\n",
              "    }\n",
              "</style>\n",
              "<table border=\"1\" class=\"dataframe\">\n",
              "  <thead>\n",
              "    <tr style=\"text-align: right;\">\n",
              "      <th></th>\n",
              "      <th>Region</th>\n",
              "    </tr>\n",
              "  </thead>\n",
              "  <tbody>\n",
              "    <tr>\n",
              "      <th>ภาคเหนือ</th>\n",
              "      <td>4312</td>\n",
              "    </tr>\n",
              "    <tr>\n",
              "      <th>ภาคตะวันออกเฉียงเหนือ</th>\n",
              "      <td>3675</td>\n",
              "    </tr>\n",
              "    <tr>\n",
              "      <th>ภาคกลางและตะวันตก</th>\n",
              "      <td>3252</td>\n",
              "    </tr>\n",
              "    <tr>\n",
              "      <th>ภาคกรุงเทพฯ ปริมณฑลและตะวันออก</th>\n",
              "      <td>3124</td>\n",
              "    </tr>\n",
              "    <tr>\n",
              "      <th>ภาคใต้</th>\n",
              "      <td>2585</td>\n",
              "    </tr>\n",
              "  </tbody>\n",
              "</table>\n",
              "</div>"
            ],
            "text/plain": [
              "                                Region\n",
              "ภาคเหนือ                          4312\n",
              "ภาคตะวันออกเฉียงเหนือ             3675\n",
              "ภาคกลางและตะวันตก                 3252\n",
              "ภาคกรุงเทพฯ ปริมณฑลและตะวันออก    3124\n",
              "ภาคใต้                            2585"
            ]
          },
          "metadata": {
            "tags": []
          },
          "execution_count": 346
        }
      ]
    },
    {
      "cell_type": "markdown",
      "metadata": {
        "id": "Ey1wL3zZe3cc"
      },
      "source": [
        "**นับจำนวนผู้รับประโยชน์จากโครงการพัฒนาที่อยู่อาศัยสำหรับผู้มีรายได้น้อยเฉลี่ยในแต่ละภาคของปี 2563**"
      ]
    },
    {
      "cell_type": "code",
      "metadata": {
        "id": "7tDU4gkleT6W",
        "colab": {
          "base_uri": "https://localhost:8080/",
          "height": 195
        },
        "outputId": "729a5635-f157-47b0-e759-2a8d33e4726a"
      },
      "source": [
        "data2563 = data2563.apply(lambda x:((x*100)/16948).astype(float))\n",
        "data2563"
      ],
      "execution_count": null,
      "outputs": [
        {
          "output_type": "execute_result",
          "data": {
            "text/html": [
              "<div>\n",
              "<style scoped>\n",
              "    .dataframe tbody tr th:only-of-type {\n",
              "        vertical-align: middle;\n",
              "    }\n",
              "\n",
              "    .dataframe tbody tr th {\n",
              "        vertical-align: top;\n",
              "    }\n",
              "\n",
              "    .dataframe thead th {\n",
              "        text-align: right;\n",
              "    }\n",
              "</style>\n",
              "<table border=\"1\" class=\"dataframe\">\n",
              "  <thead>\n",
              "    <tr style=\"text-align: right;\">\n",
              "      <th></th>\n",
              "      <th>Region</th>\n",
              "    </tr>\n",
              "  </thead>\n",
              "  <tbody>\n",
              "    <tr>\n",
              "      <th>ภาคเหนือ</th>\n",
              "      <td>25.442530</td>\n",
              "    </tr>\n",
              "    <tr>\n",
              "      <th>ภาคตะวันออกเฉียงเหนือ</th>\n",
              "      <td>21.683975</td>\n",
              "    </tr>\n",
              "    <tr>\n",
              "      <th>ภาคกลางและตะวันตก</th>\n",
              "      <td>19.188105</td>\n",
              "    </tr>\n",
              "    <tr>\n",
              "      <th>ภาคกรุงเทพฯ ปริมณฑลและตะวันออก</th>\n",
              "      <td>18.432853</td>\n",
              "    </tr>\n",
              "    <tr>\n",
              "      <th>ภาคใต้</th>\n",
              "      <td>15.252537</td>\n",
              "    </tr>\n",
              "  </tbody>\n",
              "</table>\n",
              "</div>"
            ],
            "text/plain": [
              "                                   Region\n",
              "ภาคเหนือ                        25.442530\n",
              "ภาคตะวันออกเฉียงเหนือ           21.683975\n",
              "ภาคกลางและตะวันตก               19.188105\n",
              "ภาคกรุงเทพฯ ปริมณฑลและตะวันออก  18.432853\n",
              "ภาคใต้                          15.252537"
            ]
          },
          "metadata": {
            "tags": []
          },
          "execution_count": 347
        }
      ]
    },
    {
      "cell_type": "markdown",
      "metadata": {
        "id": "M5IkEetxe6ed"
      },
      "source": [
        "**เปลี่ยนชื่อ column จาก \"Region\" เป็น \"ปี2563\"**"
      ]
    },
    {
      "cell_type": "code",
      "metadata": {
        "id": "m0GDtULWjTzo",
        "colab": {
          "base_uri": "https://localhost:8080/",
          "height": 195
        },
        "outputId": "96a309da-f14c-47bd-97bc-7e411de3a78d"
      },
      "source": [
        "data2563.rename(columns={'Region':'ปี2563'}, inplace=True)\n",
        "data2563"
      ],
      "execution_count": null,
      "outputs": [
        {
          "output_type": "execute_result",
          "data": {
            "text/html": [
              "<div>\n",
              "<style scoped>\n",
              "    .dataframe tbody tr th:only-of-type {\n",
              "        vertical-align: middle;\n",
              "    }\n",
              "\n",
              "    .dataframe tbody tr th {\n",
              "        vertical-align: top;\n",
              "    }\n",
              "\n",
              "    .dataframe thead th {\n",
              "        text-align: right;\n",
              "    }\n",
              "</style>\n",
              "<table border=\"1\" class=\"dataframe\">\n",
              "  <thead>\n",
              "    <tr style=\"text-align: right;\">\n",
              "      <th></th>\n",
              "      <th>ปี2563</th>\n",
              "    </tr>\n",
              "  </thead>\n",
              "  <tbody>\n",
              "    <tr>\n",
              "      <th>ภาคเหนือ</th>\n",
              "      <td>25.442530</td>\n",
              "    </tr>\n",
              "    <tr>\n",
              "      <th>ภาคตะวันออกเฉียงเหนือ</th>\n",
              "      <td>21.683975</td>\n",
              "    </tr>\n",
              "    <tr>\n",
              "      <th>ภาคกลางและตะวันตก</th>\n",
              "      <td>19.188105</td>\n",
              "    </tr>\n",
              "    <tr>\n",
              "      <th>ภาคกรุงเทพฯ ปริมณฑลและตะวันออก</th>\n",
              "      <td>18.432853</td>\n",
              "    </tr>\n",
              "    <tr>\n",
              "      <th>ภาคใต้</th>\n",
              "      <td>15.252537</td>\n",
              "    </tr>\n",
              "  </tbody>\n",
              "</table>\n",
              "</div>"
            ],
            "text/plain": [
              "                                   ปี2563\n",
              "ภาคเหนือ                        25.442530\n",
              "ภาคตะวันออกเฉียงเหนือ           21.683975\n",
              "ภาคกลางและตะวันตก               19.188105\n",
              "ภาคกรุงเทพฯ ปริมณฑลและตะวันออก  18.432853\n",
              "ภาคใต้                          15.252537"
            ]
          },
          "metadata": {
            "tags": []
          },
          "execution_count": 360
        }
      ]
    },
    {
      "cell_type": "markdown",
      "metadata": {
        "id": "e-nrCyVyfGYg"
      },
      "source": [
        "**กราฟนับจำนวนผู้รับประโยชน์จากโครงการพัฒนาที่อยู่อาศัยสำหรับผู้มีรายได้น้อยเฉลี่ยในแต่ละภาคของปี 2563**"
      ]
    },
    {
      "cell_type": "code",
      "metadata": {
        "id": "ZfdkHCEWfDA_",
        "colab": {
          "base_uri": "https://localhost:8080/",
          "height": 526
        },
        "outputId": "5f8a708d-5620-4407-f274-82905febf1c1"
      },
      "source": [
        "data2563.plot(kind='bar',title = 'กราฟนับจำนวนผู้รับประโยชน์จากโครงการพัฒนาที่อยู่อาศัยสำหรับผู้มีรายได้น้อยเฉลี่ยในแต่ละภาคของปี 2563',color=tuple([\"hotpink\"]))\n",
        "plt.style.use('ggplot')\n",
        "mpl.rc('font',family='TH Sarabun New',size=15)"
      ],
      "execution_count": null,
      "outputs": [
        {
          "output_type": "display_data",
          "data": {
            "image/png": "[encoded data removed]",
            "text/plain": [
              "<Figure size 432x288 with 1 Axes>"
            ]
          },
          "metadata": {
            "tags": []
          }
        }
      ]
    },
    {
      "cell_type": "markdown",
      "metadata": {
        "id": "9Bs8sYVMfhOQ"
      },
      "source": [
        "# **กราฟเปรียบเทียบจำนวนประชากรที่ได้รับประโยชน์จากโครงการพัฒนาที่อยู่อาศัยสำหรับผู้มีรายได้น้อยในแต่ละของปี พ.ศ.2562 ถึง ปี พ.ศ.2563 *แบ่งตามภูมิภาค***"
      ]
    },
    {
      "cell_type": "markdown",
      "metadata": {
        "id": "CqQq2b8rkQ_H"
      },
      "source": [
        "**แสดงค่าเฉลี่ยผู้รับประโยชน์จากโครงการพัฒนาที่อยู่อาศัยสำหรับผู้มีรายได้น้อยจาก column ปี2562**"
      ]
    },
    {
      "cell_type": "code",
      "metadata": {
        "id": "sIzJkMZ3jhXa",
        "colab": {
          "base_uri": "https://localhost:8080/",
          "height": 34
        },
        "outputId": "53e06f2d-1187-4f1f-940b-99a0e9b607e3"
      },
      "source": [
        "data2562.ปี2562.values"
      ],
      "execution_count": null,
      "outputs": [
        {
          "output_type": "execute_result",
          "data": {
            "text/plain": [
              "array([26.24590547, 23.46162845, 19.68296678, 16.78755264, 13.82194665])"
            ]
          },
          "metadata": {
            "tags": []
          },
          "execution_count": 350
        }
      ]
    },
    {
      "cell_type": "code",
      "metadata": {
        "id": "SDbPiazNjmoZ",
        "colab": {
          "base_uri": "https://localhost:8080/",
          "height": 195
        },
        "outputId": "37f7b613-f167-4c7c-f866-9ce0420e5527"
      },
      "source": [
        "data2562['ปี2562'] = [26.24590547, 23.46162845, 19.68296678, 16.78755264, 13.82194665]\n",
        "data2562"
      ],
      "execution_count": null,
      "outputs": [
        {
          "output_type": "execute_result",
          "data": {
            "text/html": [
              "<div>\n",
              "<style scoped>\n",
              "    .dataframe tbody tr th:only-of-type {\n",
              "        vertical-align: middle;\n",
              "    }\n",
              "\n",
              "    .dataframe tbody tr th {\n",
              "        vertical-align: top;\n",
              "    }\n",
              "\n",
              "    .dataframe thead th {\n",
              "        text-align: right;\n",
              "    }\n",
              "</style>\n",
              "<table border=\"1\" class=\"dataframe\">\n",
              "  <thead>\n",
              "    <tr style=\"text-align: right;\">\n",
              "      <th></th>\n",
              "      <th>ปี2562</th>\n",
              "    </tr>\n",
              "  </thead>\n",
              "  <tbody>\n",
              "    <tr>\n",
              "      <th>ภาคเหนือ</th>\n",
              "      <td>26.245905</td>\n",
              "    </tr>\n",
              "    <tr>\n",
              "      <th>ภาคใต้</th>\n",
              "      <td>23.461628</td>\n",
              "    </tr>\n",
              "    <tr>\n",
              "      <th>ภาคกรุงเทพฯ ปริมณฑลและตะวันออก</th>\n",
              "      <td>19.682967</td>\n",
              "    </tr>\n",
              "    <tr>\n",
              "      <th>ภาคตะวันออกเฉียงเหนือ</th>\n",
              "      <td>16.787553</td>\n",
              "    </tr>\n",
              "    <tr>\n",
              "      <th>ภาคกลางและตะวันตก</th>\n",
              "      <td>13.821947</td>\n",
              "    </tr>\n",
              "  </tbody>\n",
              "</table>\n",
              "</div>"
            ],
            "text/plain": [
              "                                   ปี2562\n",
              "ภาคเหนือ                        26.245905\n",
              "ภาคใต้                          23.461628\n",
              "ภาคกรุงเทพฯ ปริมณฑลและตะวันออก  19.682967\n",
              "ภาคตะวันออกเฉียงเหนือ           16.787553\n",
              "ภาคกลางและตะวันตก               13.821947"
            ]
          },
          "metadata": {
            "tags": []
          },
          "execution_count": 351
        }
      ]
    },
    {
      "cell_type": "markdown",
      "metadata": {
        "id": "E2iu86aCkbww"
      },
      "source": [
        "**แสดงค่าเฉลี่ยผู้รับประโยชน์จากโครงการพัฒนาที่อยู่อาศัยสำหรับผู้มีรายได้น้อยจาก column ปี2563**"
      ]
    },
    {
      "cell_type": "code",
      "metadata": {
        "id": "La0H_ybNjxpV",
        "colab": {
          "base_uri": "https://localhost:8080/",
          "height": 34
        },
        "outputId": "f6f28f00-5285-4b27-e0ab-75f587de16cc"
      },
      "source": [
        "data2563.ปี2563.values"
      ],
      "execution_count": null,
      "outputs": [
        {
          "output_type": "execute_result",
          "data": {
            "text/plain": [
              "array([25.44253009, 21.68397451, 19.18810479, 18.43285343, 15.25253717])"
            ]
          },
          "metadata": {
            "tags": []
          },
          "execution_count": 352
        }
      ]
    },
    {
      "cell_type": "code",
      "metadata": {
        "id": "BUV7vq-Hj1u9",
        "colab": {
          "base_uri": "https://localhost:8080/",
          "height": 195
        },
        "outputId": "cd2c0575-d67e-49b9-886d-f0d1912bdb67"
      },
      "source": [
        "data2563['ปี2563'] = [25.44253009, 21.68397451, 19.18810479, 18.43285343, 15.25253717]\n",
        "data2563"
      ],
      "execution_count": null,
      "outputs": [
        {
          "output_type": "execute_result",
          "data": {
            "text/html": [
              "<div>\n",
              "<style scoped>\n",
              "    .dataframe tbody tr th:only-of-type {\n",
              "        vertical-align: middle;\n",
              "    }\n",
              "\n",
              "    .dataframe tbody tr th {\n",
              "        vertical-align: top;\n",
              "    }\n",
              "\n",
              "    .dataframe thead th {\n",
              "        text-align: right;\n",
              "    }\n",
              "</style>\n",
              "<table border=\"1\" class=\"dataframe\">\n",
              "  <thead>\n",
              "    <tr style=\"text-align: right;\">\n",
              "      <th></th>\n",
              "      <th>ปี2563</th>\n",
              "    </tr>\n",
              "  </thead>\n",
              "  <tbody>\n",
              "    <tr>\n",
              "      <th>ภาคเหนือ</th>\n",
              "      <td>25.442530</td>\n",
              "    </tr>\n",
              "    <tr>\n",
              "      <th>ภาคตะวันออกเฉียงเหนือ</th>\n",
              "      <td>21.683975</td>\n",
              "    </tr>\n",
              "    <tr>\n",
              "      <th>ภาคกลางและตะวันตก</th>\n",
              "      <td>19.188105</td>\n",
              "    </tr>\n",
              "    <tr>\n",
              "      <th>ภาคกรุงเทพฯ ปริมณฑลและตะวันออก</th>\n",
              "      <td>18.432853</td>\n",
              "    </tr>\n",
              "    <tr>\n",
              "      <th>ภาคใต้</th>\n",
              "      <td>15.252537</td>\n",
              "    </tr>\n",
              "  </tbody>\n",
              "</table>\n",
              "</div>"
            ],
            "text/plain": [
              "                                   ปี2563\n",
              "ภาคเหนือ                        25.442530\n",
              "ภาคตะวันออกเฉียงเหนือ           21.683975\n",
              "ภาคกลางและตะวันตก               19.188105\n",
              "ภาคกรุงเทพฯ ปริมณฑลและตะวันออก  18.432853\n",
              "ภาคใต้                          15.252537"
            ]
          },
          "metadata": {
            "tags": []
          },
          "execution_count": 353
        }
      ]
    },
    {
      "cell_type": "markdown",
      "metadata": {
        "id": "at_htOyBkeQu"
      },
      "source": [
        "**แสดงค่าเฉลี่ยผู้รับประโยชน์จากโครงการพัฒนาที่อยู่อาศัยสำหรับผู้มีรายได้น้อยจาก column ปี2562 - ปี2563**"
      ]
    },
    {
      "cell_type": "code",
      "metadata": {
        "id": "Ao7wlW7Ok3rC",
        "colab": {
          "base_uri": "https://localhost:8080/",
          "height": 195
        },
        "outputId": "f7c61696-ba46-41cb-e503-e4a7d88663b3"
      },
      "source": [
        "data2562['ปี2563'] = [25.44253009, 21.68397451, 19.18810479, 18.43285343, 15.25253717]\n",
        "data2562"
      ],
      "execution_count": null,
      "outputs": [
        {
          "output_type": "execute_result",
          "data": {
            "text/html": [
              "<div>\n",
              "<style scoped>\n",
              "    .dataframe tbody tr th:only-of-type {\n",
              "        vertical-align: middle;\n",
              "    }\n",
              "\n",
              "    .dataframe tbody tr th {\n",
              "        vertical-align: top;\n",
              "    }\n",
              "\n",
              "    .dataframe thead th {\n",
              "        text-align: right;\n",
              "    }\n",
              "</style>\n",
              "<table border=\"1\" class=\"dataframe\">\n",
              "  <thead>\n",
              "    <tr style=\"text-align: right;\">\n",
              "      <th></th>\n",
              "      <th>ปี2562</th>\n",
              "      <th>ปี2563</th>\n",
              "    </tr>\n",
              "  </thead>\n",
              "  <tbody>\n",
              "    <tr>\n",
              "      <th>ภาคเหนือ</th>\n",
              "      <td>26.245905</td>\n",
              "      <td>25.442530</td>\n",
              "    </tr>\n",
              "    <tr>\n",
              "      <th>ภาคใต้</th>\n",
              "      <td>23.461628</td>\n",
              "      <td>21.683975</td>\n",
              "    </tr>\n",
              "    <tr>\n",
              "      <th>ภาคกรุงเทพฯ ปริมณฑลและตะวันออก</th>\n",
              "      <td>19.682967</td>\n",
              "      <td>19.188105</td>\n",
              "    </tr>\n",
              "    <tr>\n",
              "      <th>ภาคตะวันออกเฉียงเหนือ</th>\n",
              "      <td>16.787553</td>\n",
              "      <td>18.432853</td>\n",
              "    </tr>\n",
              "    <tr>\n",
              "      <th>ภาคกลางและตะวันตก</th>\n",
              "      <td>13.821947</td>\n",
              "      <td>15.252537</td>\n",
              "    </tr>\n",
              "  </tbody>\n",
              "</table>\n",
              "</div>"
            ],
            "text/plain": [
              "                                   ปี2562     ปี2563\n",
              "ภาคเหนือ                        26.245905  25.442530\n",
              "ภาคใต้                          23.461628  21.683975\n",
              "ภาคกรุงเทพฯ ปริมณฑลและตะวันออก  19.682967  19.188105\n",
              "ภาคตะวันออกเฉียงเหนือ           16.787553  18.432853\n",
              "ภาคกลางและตะวันตก               13.821947  15.252537"
            ]
          },
          "metadata": {
            "tags": []
          },
          "execution_count": 354
        }
      ]
    },
    {
      "cell_type": "markdown",
      "metadata": {
        "id": "deLcxayXlNcM"
      },
      "source": [
        "**เปลี่ยนชื่อตาราง จาก \"data2562\" เป็น \"allyears\"**"
      ]
    },
    {
      "cell_type": "code",
      "metadata": {
        "id": "wVxclDrNlIkO",
        "colab": {
          "base_uri": "https://localhost:8080/",
          "height": 195
        },
        "outputId": "69665396-e0ec-4cbc-f974-6e10303a0dc9"
      },
      "source": [
        "allyears = data2562\n",
        "allyears"
      ],
      "execution_count": null,
      "outputs": [
        {
          "output_type": "execute_result",
          "data": {
            "text/html": [
              "<div>\n",
              "<style scoped>\n",
              "    .dataframe tbody tr th:only-of-type {\n",
              "        vertical-align: middle;\n",
              "    }\n",
              "\n",
              "    .dataframe tbody tr th {\n",
              "        vertical-align: top;\n",
              "    }\n",
              "\n",
              "    .dataframe thead th {\n",
              "        text-align: right;\n",
              "    }\n",
              "</style>\n",
              "<table border=\"1\" class=\"dataframe\">\n",
              "  <thead>\n",
              "    <tr style=\"text-align: right;\">\n",
              "      <th></th>\n",
              "      <th>ปี2562</th>\n",
              "      <th>ปี2563</th>\n",
              "    </tr>\n",
              "  </thead>\n",
              "  <tbody>\n",
              "    <tr>\n",
              "      <th>ภาคเหนือ</th>\n",
              "      <td>26.245905</td>\n",
              "      <td>25.442530</td>\n",
              "    </tr>\n",
              "    <tr>\n",
              "      <th>ภาคใต้</th>\n",
              "      <td>23.461628</td>\n",
              "      <td>21.683975</td>\n",
              "    </tr>\n",
              "    <tr>\n",
              "      <th>ภาคกรุงเทพฯ ปริมณฑลและตะวันออก</th>\n",
              "      <td>19.682967</td>\n",
              "      <td>19.188105</td>\n",
              "    </tr>\n",
              "    <tr>\n",
              "      <th>ภาคตะวันออกเฉียงเหนือ</th>\n",
              "      <td>16.787553</td>\n",
              "      <td>18.432853</td>\n",
              "    </tr>\n",
              "    <tr>\n",
              "      <th>ภาคกลางและตะวันตก</th>\n",
              "      <td>13.821947</td>\n",
              "      <td>15.252537</td>\n",
              "    </tr>\n",
              "  </tbody>\n",
              "</table>\n",
              "</div>"
            ],
            "text/plain": [
              "                                   ปี2562     ปี2563\n",
              "ภาคเหนือ                        26.245905  25.442530\n",
              "ภาคใต้                          23.461628  21.683975\n",
              "ภาคกรุงเทพฯ ปริมณฑลและตะวันออก  19.682967  19.188105\n",
              "ภาคตะวันออกเฉียงเหนือ           16.787553  18.432853\n",
              "ภาคกลางและตะวันตก               13.821947  15.252537"
            ]
          },
          "metadata": {
            "tags": []
          },
          "execution_count": 355
        }
      ]
    },
    {
      "cell_type": "markdown",
      "metadata": {
        "id": "FaSPiGgqlest"
      },
      "source": [
        "เพิ่มคำอธิบาย \"ภูมิภาค\" ลงไป"
      ]
    },
    {
      "cell_type": "code",
      "metadata": {
        "id": "m_A2EhPslfi4",
        "colab": {
          "base_uri": "https://localhost:8080/",
          "height": 225
        },
        "outputId": "c1d8299c-e9be-42ef-b881-b3379e7f04b0"
      },
      "source": [
        "allyears.index.names = ['ภูมิภาค']\n",
        "allyears"
      ],
      "execution_count": null,
      "outputs": [
        {
          "output_type": "execute_result",
          "data": {
            "text/html": [
              "<div>\n",
              "<style scoped>\n",
              "    .dataframe tbody tr th:only-of-type {\n",
              "        vertical-align: middle;\n",
              "    }\n",
              "\n",
              "    .dataframe tbody tr th {\n",
              "        vertical-align: top;\n",
              "    }\n",
              "\n",
              "    .dataframe thead th {\n",
              "        text-align: right;\n",
              "    }\n",
              "</style>\n",
              "<table border=\"1\" class=\"dataframe\">\n",
              "  <thead>\n",
              "    <tr style=\"text-align: right;\">\n",
              "      <th></th>\n",
              "      <th>ปี2562</th>\n",
              "      <th>ปี2563</th>\n",
              "    </tr>\n",
              "    <tr>\n",
              "      <th>ภูมิภาค</th>\n",
              "      <th></th>\n",
              "      <th></th>\n",
              "    </tr>\n",
              "  </thead>\n",
              "  <tbody>\n",
              "    <tr>\n",
              "      <th>ภาคเหนือ</th>\n",
              "      <td>26.245905</td>\n",
              "      <td>25.442530</td>\n",
              "    </tr>\n",
              "    <tr>\n",
              "      <th>ภาคใต้</th>\n",
              "      <td>23.461628</td>\n",
              "      <td>21.683975</td>\n",
              "    </tr>\n",
              "    <tr>\n",
              "      <th>ภาคกรุงเทพฯ ปริมณฑลและตะวันออก</th>\n",
              "      <td>19.682967</td>\n",
              "      <td>19.188105</td>\n",
              "    </tr>\n",
              "    <tr>\n",
              "      <th>ภาคตะวันออกเฉียงเหนือ</th>\n",
              "      <td>16.787553</td>\n",
              "      <td>18.432853</td>\n",
              "    </tr>\n",
              "    <tr>\n",
              "      <th>ภาคกลางและตะวันตก</th>\n",
              "      <td>13.821947</td>\n",
              "      <td>15.252537</td>\n",
              "    </tr>\n",
              "  </tbody>\n",
              "</table>\n",
              "</div>"
            ],
            "text/plain": [
              "                                   ปี2562     ปี2563\n",
              "ภูมิภาค                                             \n",
              "ภาคเหนือ                        26.245905  25.442530\n",
              "ภาคใต้                          23.461628  21.683975\n",
              "ภาคกรุงเทพฯ ปริมณฑลและตะวันออก  19.682967  19.188105\n",
              "ภาคตะวันออกเฉียงเหนือ           16.787553  18.432853\n",
              "ภาคกลางและตะวันตก               13.821947  15.252537"
            ]
          },
          "metadata": {
            "tags": []
          },
          "execution_count": 356
        }
      ]
    },
    {
      "cell_type": "markdown",
      "metadata": {
        "id": "cXKUxiV1oX1K"
      },
      "source": [
        "**กราฟเปรียบเทียบจำนวนประชากรที่ได้รับประโยชน์จากโครงการพัฒนาที่อยู่อาศัยสำหรับผู้มีรายได้น้อยในปี พ.ศ.2562 ถึง ปี พ.ศ.2563**"
      ]
    },
    {
      "cell_type": "code",
      "metadata": {
        "id": "BsOvFk8El5U1",
        "colab": {
          "base_uri": "https://localhost:8080/",
          "height": 554
        },
        "outputId": "da2e17ad-4951-4389-a0fb-ac56ce2a4edd"
      },
      "source": [
        "allyears.plot(kind='bar',title = 'กราฟเปรียบเทียบจำนวนประชากรที่ได้รับประโยชน์จากโครงการพัฒนาที่อยู่อาศัยสำหรับผู้มีรายได้น้อยในปี พ.ศ.2562 ถึง ปี พ.ศ.2563',color=tuple([\"mediumspringgreen\",\"hotpink\"]))\n",
        "plt.style.use('ggplot')\n",
        "mpl.rc('font',family='TH Sarabun New',size=15)"
      ],
      "execution_count": null,
      "outputs": [
        {
          "output_type": "display_data",
          "data": {
            "image/png": "[encoded data removed]",
            "text/plain": [
              "<Figure size 432x288 with 1 Axes>"
            ]
          },
          "metadata": {
            "tags": []
          }
        }
      ]
    },
    {
      "cell_type": "markdown",
      "metadata": {
        "id": "unRIKu-Ro7qB"
      },
      "source": [
        "# **กราฟเปรียบเทียบจำนวนประชากรที่ได้รับประโยชน์จากโครงการพัฒนาที่อยู่อาศัยสำหรับผู้มีรายได้น้อยในปี พ.ศ.2562 ถึง ปี พ.ศ.2563**"
      ]
    },
    {
      "cell_type": "code",
      "metadata": {
        "id": "UE_Fk4M_pCIC",
        "colab": {
          "base_uri": "https://localhost:8080/",
          "height": 67
        },
        "outputId": "21f066f4-4661-4a4c-a4c8-903696b1d467"
      },
      "source": [
        "populationyear = newdata.ProjectYear.value_counts()\n",
        "populationyear"
      ],
      "execution_count": null,
      "outputs": [
        {
          "output_type": "execute_result",
          "data": {
            "text/plain": [
              "2562    17096\n",
              "2563    16948\n",
              "Name: ProjectYear, dtype: int64"
            ]
          },
          "metadata": {
            "tags": []
          },
          "execution_count": 364
        }
      ]
    },
    {
      "cell_type": "code",
      "metadata": {
        "id": "1CMjH18sped1",
        "colab": {
          "base_uri": "https://localhost:8080/",
          "height": 106
        },
        "outputId": "bc28e7ce-94c0-486a-8c90-e061e0f4eb51"
      },
      "source": [
        "populationyear = pd.DataFrame(populationyear)\n",
        "populationyear"
      ],
      "execution_count": null,
      "outputs": [
        {
          "output_type": "execute_result",
          "data": {
            "text/html": [
              "<div>\n",
              "<style scoped>\n",
              "    .dataframe tbody tr th:only-of-type {\n",
              "        vertical-align: middle;\n",
              "    }\n",
              "\n",
              "    .dataframe tbody tr th {\n",
              "        vertical-align: top;\n",
              "    }\n",
              "\n",
              "    .dataframe thead th {\n",
              "        text-align: right;\n",
              "    }\n",
              "</style>\n",
              "<table border=\"1\" class=\"dataframe\">\n",
              "  <thead>\n",
              "    <tr style=\"text-align: right;\">\n",
              "      <th></th>\n",
              "      <th>ProjectYear</th>\n",
              "    </tr>\n",
              "  </thead>\n",
              "  <tbody>\n",
              "    <tr>\n",
              "      <th>2562</th>\n",
              "      <td>17096</td>\n",
              "    </tr>\n",
              "    <tr>\n",
              "      <th>2563</th>\n",
              "      <td>16948</td>\n",
              "    </tr>\n",
              "  </tbody>\n",
              "</table>\n",
              "</div>"
            ],
            "text/plain": [
              "      ProjectYear\n",
              "2562        17096\n",
              "2563        16948"
            ]
          },
          "metadata": {
            "tags": []
          },
          "execution_count": 365
        }
      ]
    },
    {
      "cell_type": "code",
      "metadata": {
        "id": "nI00UJZGpjqz",
        "colab": {
          "base_uri": "https://localhost:8080/",
          "height": 106
        },
        "outputId": "0b3fd164-8841-46ec-abf9-782faa43a1f4"
      },
      "source": [
        "populationyear.rename(columns={'ProjectYear': 'Population'}, inplace=True)\n",
        "populationyear"
      ],
      "execution_count": null,
      "outputs": [
        {
          "output_type": "execute_result",
          "data": {
            "text/html": [
              "<div>\n",
              "<style scoped>\n",
              "    .dataframe tbody tr th:only-of-type {\n",
              "        vertical-align: middle;\n",
              "    }\n",
              "\n",
              "    .dataframe tbody tr th {\n",
              "        vertical-align: top;\n",
              "    }\n",
              "\n",
              "    .dataframe thead th {\n",
              "        text-align: right;\n",
              "    }\n",
              "</style>\n",
              "<table border=\"1\" class=\"dataframe\">\n",
              "  <thead>\n",
              "    <tr style=\"text-align: right;\">\n",
              "      <th></th>\n",
              "      <th>Population</th>\n",
              "    </tr>\n",
              "  </thead>\n",
              "  <tbody>\n",
              "    <tr>\n",
              "      <th>2562</th>\n",
              "      <td>17096</td>\n",
              "    </tr>\n",
              "    <tr>\n",
              "      <th>2563</th>\n",
              "      <td>16948</td>\n",
              "    </tr>\n",
              "  </tbody>\n",
              "</table>\n",
              "</div>"
            ],
            "text/plain": [
              "      Population\n",
              "2562       17096\n",
              "2563       16948"
            ]
          },
          "metadata": {
            "tags": []
          },
          "execution_count": 366
        }
      ]
    },
    {
      "cell_type": "code",
      "metadata": {
        "id": "Yf4hU6_VpyXz",
        "colab": {
          "base_uri": "https://localhost:8080/",
          "height": 106
        },
        "outputId": "6006c485-3e9d-44cf-b72f-faad2a99ebb1"
      },
      "source": [
        "populationyear = populationyear.apply(lambda x:((x*100)/34044).astype(float))\n",
        "populationyear['year'] = ['2562','2563']\n",
        "populationyear"
      ],
      "execution_count": null,
      "outputs": [
        {
          "output_type": "execute_result",
          "data": {
            "text/html": [
              "<div>\n",
              "<style scoped>\n",
              "    .dataframe tbody tr th:only-of-type {\n",
              "        vertical-align: middle;\n",
              "    }\n",
              "\n",
              "    .dataframe tbody tr th {\n",
              "        vertical-align: top;\n",
              "    }\n",
              "\n",
              "    .dataframe thead th {\n",
              "        text-align: right;\n",
              "    }\n",
              "</style>\n",
              "<table border=\"1\" class=\"dataframe\">\n",
              "  <thead>\n",
              "    <tr style=\"text-align: right;\">\n",
              "      <th></th>\n",
              "      <th>Population</th>\n",
              "      <th>year</th>\n",
              "    </tr>\n",
              "  </thead>\n",
              "  <tbody>\n",
              "    <tr>\n",
              "      <th>2562</th>\n",
              "      <td>50.217366</td>\n",
              "      <td>2562</td>\n",
              "    </tr>\n",
              "    <tr>\n",
              "      <th>2563</th>\n",
              "      <td>49.782634</td>\n",
              "      <td>2563</td>\n",
              "    </tr>\n",
              "  </tbody>\n",
              "</table>\n",
              "</div>"
            ],
            "text/plain": [
              "      Population  year\n",
              "2562   50.217366  2562\n",
              "2563   49.782634  2563"
            ]
          },
          "metadata": {
            "tags": []
          },
          "execution_count": 367
        }
      ]
    },
    {
      "cell_type": "code",
      "metadata": {
        "id": "g_rO_Lmwp4qx",
        "colab": {
          "base_uri": "https://localhost:8080/",
          "height": 308
        },
        "outputId": "cb9613af-a321-44f0-9559-25876e92eb93"
      },
      "source": [
        "fig, axes = plt.subplots()\n",
        "axes.bar(populationyear['year'], populationyear['Population'], color = ['mediumspringgreen', 'hotpink'])\n",
        "axes.set_title('กราฟเปรียบเทียบจำนวนประชากรที่ได้รับประโยชน์จากโครงการพัฒนาที่อยู่อาศัยสำหรับผู้มีรายได้น้อยในปี พ.ศ.2562 ถึง ปี พ.ศ.2563')\n",
        "axes.set_ylim(49.5,50.5)\n",
        "plt.style.use('ggplot')\n",
        "mpl.rc('font',family='TH Sarabun New',size=15)"
      ],
      "execution_count": null,
      "outputs": [
        {
          "output_type": "display_data",
          "data": {
            "image/png": "[encoded data removed]",
            "text/plain": [
              "<Figure size 432x288 with 1 Axes>"
            ]
          },
          "metadata": {
            "tags": []
          }
        }
      ]
    }
  ]
}