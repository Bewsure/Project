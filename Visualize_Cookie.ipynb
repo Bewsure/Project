{
  "nbformat": 4,
  "nbformat_minor": 0,
  "metadata": {
    "colab": {
      "name": "CookieProject.ipynb",
      "provenance": []
    },
    "kernelspec": {
      "name": "python3",
      "display_name": "Python 3"
    }
  },
  "cells": [
    {
      "cell_type": "code",
      "metadata": {
        "id": "ncy-1EpjOud7"
      },
      "source": [
        "import os\n",
        "import pandas as pd\n",
        "import numpy as np\n",
        "import matplotlib.pyplot as plt\n",
        "%matplotlib inline\n",
        "\n",
        "import statsmodels.formula.api as smf\n",
        "\n",
        "\n"
      ],
      "execution_count": null,
      "outputs": []
    },
    {
      "cell_type": "code",
      "metadata": {
        "colab": {
          "base_uri": "https://localhost:8080/"
        },
        "id": "WVeWUxMUO1d0",
        "outputId": "23c9546a-3f9d-48cb-8f84-197262f81e1d"
      },
      "source": [
        "from google.colab import drive\n",
        "drive.mount('/content/gdrive')"
      ],
      "execution_count": null,
      "outputs": [
        {
          "output_type": "stream",
          "text": [
            "Drive already mounted at /content/gdrive; to attempt to forcibly remount, call drive.mount(\"/content/gdrive\", force_remount=True).\n"
          ],
          "name": "stdout"
        }
      ]
    },
    {
      "cell_type": "code",
      "metadata": {
        "colab": {
          "base_uri": "https://localhost:8080/",
          "height": 35
        },
        "id": "YEaYHZzmO1hB",
        "outputId": "06a692e8-2fac-4671-fa14-05b439e7d3a1"
      },
      "source": [
        "os.chdir('/content/gdrive/My Drive/Colab Notebooks')\n",
        "os.getcwd()"
      ],
      "execution_count": null,
      "outputs": [
        {
          "output_type": "execute_result",
          "data": {
            "application/vnd.google.colaboratory.intrinsic+json": {
              "type": "string"
            },
            "text/plain": [
              "'/content/gdrive/My Drive/Colab Notebooks'"
            ]
          },
          "metadata": {
            "tags": []
          },
          "execution_count": 360
        }
      ]
    },
    {
      "cell_type": "code",
      "metadata": {
        "colab": {
          "base_uri": "https://localhost:8080/"
        },
        "id": "XQnDVvNeO1ju",
        "outputId": "5acf54bd-1e64-4add-ccf1-7daaaa9c9057"
      },
      "source": [
        "df = pd.read_excel('TestForStat/CookieData.xlsx',sheet_name='Data',skiprows=3)\n",
        "df.columns"
      ],
      "execution_count": null,
      "outputs": [
        {
          "output_type": "execute_result",
          "data": {
            "text/plain": [
              "Index(['Age', 'Education', 'Gender', 'TimeForInternet(hour/day)',\n",
              "       'DeleteCookie'],\n",
              "      dtype='object')"
            ]
          },
          "metadata": {
            "tags": []
          },
          "execution_count": 361
        }
      ]
    },
    {
      "cell_type": "code",
      "metadata": {
        "colab": {
          "base_uri": "https://localhost:8080/",
          "height": 343
        },
        "id": "C-nm0jsSO1mm",
        "outputId": "5e761866-5465-409e-d6a7-1bddb64d7bb9"
      },
      "source": [
        "df.head(10)"
      ],
      "execution_count": null,
      "outputs": [
        {
          "output_type": "execute_result",
          "data": {
            "text/html": [
              "<div>\n",
              "<style scoped>\n",
              "    .dataframe tbody tr th:only-of-type {\n",
              "        vertical-align: middle;\n",
              "    }\n",
              "\n",
              "    .dataframe tbody tr th {\n",
              "        vertical-align: top;\n",
              "    }\n",
              "\n",
              "    .dataframe thead th {\n",
              "        text-align: right;\n",
              "    }\n",
              "</style>\n",
              "<table border=\"1\" class=\"dataframe\">\n",
              "  <thead>\n",
              "    <tr style=\"text-align: right;\">\n",
              "      <th></th>\n",
              "      <th>Age</th>\n",
              "      <th>Education</th>\n",
              "      <th>Gender</th>\n",
              "      <th>TimeForInternet(hour/day)</th>\n",
              "      <th>DeleteCookie</th>\n",
              "    </tr>\n",
              "  </thead>\n",
              "  <tbody>\n",
              "    <tr>\n",
              "      <th>0</th>\n",
              "      <td>20</td>\n",
              "      <td>กำลังศึกษาปริญญาตรี</td>\n",
              "      <td>หญิง</td>\n",
              "      <td>มากกว่า 8 ชั่วโมง</td>\n",
              "      <td>1</td>\n",
              "    </tr>\n",
              "    <tr>\n",
              "      <th>1</th>\n",
              "      <td>20</td>\n",
              "      <td>กำลังศึกษาปริญญาตรี</td>\n",
              "      <td>หญิง</td>\n",
              "      <td>4 - 8 ชั่วโมง</td>\n",
              "      <td>1</td>\n",
              "    </tr>\n",
              "    <tr>\n",
              "      <th>2</th>\n",
              "      <td>21</td>\n",
              "      <td>กำลังศึกษาปริญญาตรี</td>\n",
              "      <td>หญิง</td>\n",
              "      <td>มากกว่า 8 ชั่วโมง</td>\n",
              "      <td>1</td>\n",
              "    </tr>\n",
              "    <tr>\n",
              "      <th>3</th>\n",
              "      <td>20</td>\n",
              "      <td>กำลังศึกษาปริญญาตรี</td>\n",
              "      <td>หญิง</td>\n",
              "      <td>4 - 8 ชั่วโมง</td>\n",
              "      <td>1</td>\n",
              "    </tr>\n",
              "    <tr>\n",
              "      <th>4</th>\n",
              "      <td>21</td>\n",
              "      <td>กำลังศึกษาปริญญาตรี</td>\n",
              "      <td>หญิง</td>\n",
              "      <td>1 - 4 ชั่วโมง</td>\n",
              "      <td>1</td>\n",
              "    </tr>\n",
              "    <tr>\n",
              "      <th>5</th>\n",
              "      <td>20</td>\n",
              "      <td>กำลังศึกษาปริญญาตรี</td>\n",
              "      <td>หญิง</td>\n",
              "      <td>มากกว่า 8 ชั่วโมง</td>\n",
              "      <td>0</td>\n",
              "    </tr>\n",
              "    <tr>\n",
              "      <th>6</th>\n",
              "      <td>21</td>\n",
              "      <td>กำลังศึกษาปริญญาตรี</td>\n",
              "      <td>หญิง</td>\n",
              "      <td>มากกว่า 8 ชั่วโมง</td>\n",
              "      <td>1</td>\n",
              "    </tr>\n",
              "    <tr>\n",
              "      <th>7</th>\n",
              "      <td>20</td>\n",
              "      <td>กำลังศึกษาปริญญาตรี</td>\n",
              "      <td>หญิง</td>\n",
              "      <td>มากกว่า 8 ชั่วโมง</td>\n",
              "      <td>1</td>\n",
              "    </tr>\n",
              "    <tr>\n",
              "      <th>8</th>\n",
              "      <td>20</td>\n",
              "      <td>กำลังศึกษาปริญญาตรี</td>\n",
              "      <td>หญิง</td>\n",
              "      <td>มากกว่า 8 ชั่วโมง</td>\n",
              "      <td>1</td>\n",
              "    </tr>\n",
              "    <tr>\n",
              "      <th>9</th>\n",
              "      <td>20</td>\n",
              "      <td>กำลังศึกษาปริญญาตรี</td>\n",
              "      <td>หญิง</td>\n",
              "      <td>4 - 8 ชั่วโมง</td>\n",
              "      <td>1</td>\n",
              "    </tr>\n",
              "  </tbody>\n",
              "</table>\n",
              "</div>"
            ],
            "text/plain": [
              "   Age            Education Gender TimeForInternet(hour/day)  DeleteCookie\n",
              "0   20  กำลังศึกษาปริญญาตรี   หญิง         มากกว่า 8 ชั่วโมง             1\n",
              "1   20  กำลังศึกษาปริญญาตรี   หญิง             4 - 8 ชั่วโมง             1\n",
              "2   21  กำลังศึกษาปริญญาตรี   หญิง         มากกว่า 8 ชั่วโมง             1\n",
              "3   20  กำลังศึกษาปริญญาตรี   หญิง             4 - 8 ชั่วโมง             1\n",
              "4   21  กำลังศึกษาปริญญาตรี   หญิง             1 - 4 ชั่วโมง             1\n",
              "5   20  กำลังศึกษาปริญญาตรี   หญิง         มากกว่า 8 ชั่วโมง             0\n",
              "6   21  กำลังศึกษาปริญญาตรี   หญิง         มากกว่า 8 ชั่วโมง             1\n",
              "7   20  กำลังศึกษาปริญญาตรี   หญิง         มากกว่า 8 ชั่วโมง             1\n",
              "8   20  กำลังศึกษาปริญญาตรี   หญิง         มากกว่า 8 ชั่วโมง             1\n",
              "9   20  กำลังศึกษาปริญญาตรี   หญิง             4 - 8 ชั่วโมง             1"
            ]
          },
          "metadata": {
            "tags": []
          },
          "execution_count": 362
        }
      ]
    },
    {
      "cell_type": "code",
      "metadata": {
        "colab": {
          "base_uri": "https://localhost:8080/"
        },
        "id": "fzcByzvyO1ph",
        "outputId": "6a1dd617-f013-4206-c56b-a8e785baf0c1"
      },
      "source": [
        "df['Education'].value_counts()"
      ],
      "execution_count": null,
      "outputs": [
        {
          "output_type": "execute_result",
          "data": {
            "text/plain": [
              "ต่ำกว่าปริญญาตรี       36\n",
              "กำลังศึกษาปริญญาตรี    33\n",
              "ปริญญาตรี              26\n",
              "ปริญญาโท                7\n",
              "Name: Education, dtype: int64"
            ]
          },
          "metadata": {
            "tags": []
          },
          "execution_count": 363
        }
      ]
    },
    {
      "cell_type": "code",
      "metadata": {
        "colab": {
          "base_uri": "https://localhost:8080/"
        },
        "id": "fDzeMxvpO1sl",
        "outputId": "38c74866-75fe-4371-b8fd-0a7039e0cf32"
      },
      "source": [
        "df['TimeForInternet(hour/day)'].value_counts()"
      ],
      "execution_count": null,
      "outputs": [
        {
          "output_type": "execute_result",
          "data": {
            "text/plain": [
              "มากกว่า 8 ชั่วโมง    42\n",
              "1 - 4 ชั่วโมง        32\n",
              "4 - 8 ชั่วโมง        28\n",
              "Name: TimeForInternet(hour/day), dtype: int64"
            ]
          },
          "metadata": {
            "tags": []
          },
          "execution_count": 364
        }
      ]
    },
    {
      "cell_type": "code",
      "metadata": {
        "colab": {
          "base_uri": "https://localhost:8080/"
        },
        "id": "RTM-sYRYO1v4",
        "outputId": "fb9efc9d-59b1-4767-a50d-33739afeda6d"
      },
      "source": [
        "df.dtypes"
      ],
      "execution_count": null,
      "outputs": [
        {
          "output_type": "execute_result",
          "data": {
            "text/plain": [
              "Age                           int64\n",
              "Education                    object\n",
              "Gender                       object\n",
              "TimeForInternet(hour/day)    object\n",
              "DeleteCookie                  int64\n",
              "dtype: object"
            ]
          },
          "metadata": {
            "tags": []
          },
          "execution_count": 365
        }
      ]
    },
    {
      "cell_type": "code",
      "metadata": {
        "id": "0s94yWcoO1y8",
        "colab": {
          "base_uri": "https://localhost:8080/"
        },
        "outputId": "a3e555ce-b96c-4abb-c380-d20b9763bbdc"
      },
      "source": [
        "df['DeleteCookie'].value_counts()"
      ],
      "execution_count": null,
      "outputs": [
        {
          "output_type": "execute_result",
          "data": {
            "text/plain": [
              "1    66\n",
              "0    36\n",
              "Name: DeleteCookie, dtype: int64"
            ]
          },
          "metadata": {
            "tags": []
          },
          "execution_count": 366
        }
      ]
    },
    {
      "cell_type": "code",
      "metadata": {
        "id": "CkrbT2HTi1LX"
      },
      "source": [
        "df['Education'] = df.loc[:, 'Education'].replace(['กำลังศึกษาปริญญาตรี', 'ปริญญาตรี','ต่ำกว่าปริญญาตรี','ปริญญาโท'], [1, 1, 0, 1])"
      ],
      "execution_count": null,
      "outputs": []
    },
    {
      "cell_type": "code",
      "metadata": {
        "id": "YxpKWfnni1Or",
        "colab": {
          "base_uri": "https://localhost:8080/",
          "height": 935
        },
        "outputId": "4dac2cd7-e158-4ad6-be9d-bf7498315c70"
      },
      "source": [
        "df.head(30)"
      ],
      "execution_count": null,
      "outputs": [
        {
          "output_type": "execute_result",
          "data": {
            "text/html": [
              "<div>\n",
              "<style scoped>\n",
              "    .dataframe tbody tr th:only-of-type {\n",
              "        vertical-align: middle;\n",
              "    }\n",
              "\n",
              "    .dataframe tbody tr th {\n",
              "        vertical-align: top;\n",
              "    }\n",
              "\n",
              "    .dataframe thead th {\n",
              "        text-align: right;\n",
              "    }\n",
              "</style>\n",
              "<table border=\"1\" class=\"dataframe\">\n",
              "  <thead>\n",
              "    <tr style=\"text-align: right;\">\n",
              "      <th></th>\n",
              "      <th>Age</th>\n",
              "      <th>Education</th>\n",
              "      <th>Gender</th>\n",
              "      <th>TimeForInternet(hour/day)</th>\n",
              "      <th>DeleteCookie</th>\n",
              "    </tr>\n",
              "  </thead>\n",
              "  <tbody>\n",
              "    <tr>\n",
              "      <th>0</th>\n",
              "      <td>20</td>\n",
              "      <td>1</td>\n",
              "      <td>หญิง</td>\n",
              "      <td>มากกว่า 8 ชั่วโมง</td>\n",
              "      <td>1</td>\n",
              "    </tr>\n",
              "    <tr>\n",
              "      <th>1</th>\n",
              "      <td>20</td>\n",
              "      <td>1</td>\n",
              "      <td>หญิง</td>\n",
              "      <td>4 - 8 ชั่วโมง</td>\n",
              "      <td>1</td>\n",
              "    </tr>\n",
              "    <tr>\n",
              "      <th>2</th>\n",
              "      <td>21</td>\n",
              "      <td>1</td>\n",
              "      <td>หญิง</td>\n",
              "      <td>มากกว่า 8 ชั่วโมง</td>\n",
              "      <td>1</td>\n",
              "    </tr>\n",
              "    <tr>\n",
              "      <th>3</th>\n",
              "      <td>20</td>\n",
              "      <td>1</td>\n",
              "      <td>หญิง</td>\n",
              "      <td>4 - 8 ชั่วโมง</td>\n",
              "      <td>1</td>\n",
              "    </tr>\n",
              "    <tr>\n",
              "      <th>4</th>\n",
              "      <td>21</td>\n",
              "      <td>1</td>\n",
              "      <td>หญิง</td>\n",
              "      <td>1 - 4 ชั่วโมง</td>\n",
              "      <td>1</td>\n",
              "    </tr>\n",
              "    <tr>\n",
              "      <th>5</th>\n",
              "      <td>20</td>\n",
              "      <td>1</td>\n",
              "      <td>หญิง</td>\n",
              "      <td>มากกว่า 8 ชั่วโมง</td>\n",
              "      <td>0</td>\n",
              "    </tr>\n",
              "    <tr>\n",
              "      <th>6</th>\n",
              "      <td>21</td>\n",
              "      <td>1</td>\n",
              "      <td>หญิง</td>\n",
              "      <td>มากกว่า 8 ชั่วโมง</td>\n",
              "      <td>1</td>\n",
              "    </tr>\n",
              "    <tr>\n",
              "      <th>7</th>\n",
              "      <td>20</td>\n",
              "      <td>1</td>\n",
              "      <td>หญิง</td>\n",
              "      <td>มากกว่า 8 ชั่วโมง</td>\n",
              "      <td>1</td>\n",
              "    </tr>\n",
              "    <tr>\n",
              "      <th>8</th>\n",
              "      <td>20</td>\n",
              "      <td>1</td>\n",
              "      <td>หญิง</td>\n",
              "      <td>มากกว่า 8 ชั่วโมง</td>\n",
              "      <td>1</td>\n",
              "    </tr>\n",
              "    <tr>\n",
              "      <th>9</th>\n",
              "      <td>20</td>\n",
              "      <td>1</td>\n",
              "      <td>หญิง</td>\n",
              "      <td>4 - 8 ชั่วโมง</td>\n",
              "      <td>1</td>\n",
              "    </tr>\n",
              "    <tr>\n",
              "      <th>10</th>\n",
              "      <td>21</td>\n",
              "      <td>1</td>\n",
              "      <td>หญิง</td>\n",
              "      <td>มากกว่า 8 ชั่วโมง</td>\n",
              "      <td>1</td>\n",
              "    </tr>\n",
              "    <tr>\n",
              "      <th>11</th>\n",
              "      <td>21</td>\n",
              "      <td>1</td>\n",
              "      <td>ชาย</td>\n",
              "      <td>มากกว่า 8 ชั่วโมง</td>\n",
              "      <td>0</td>\n",
              "    </tr>\n",
              "    <tr>\n",
              "      <th>12</th>\n",
              "      <td>21</td>\n",
              "      <td>1</td>\n",
              "      <td>ชาย</td>\n",
              "      <td>มากกว่า 8 ชั่วโมง</td>\n",
              "      <td>1</td>\n",
              "    </tr>\n",
              "    <tr>\n",
              "      <th>13</th>\n",
              "      <td>19</td>\n",
              "      <td>1</td>\n",
              "      <td>ชาย</td>\n",
              "      <td>4 - 8 ชั่วโมง</td>\n",
              "      <td>1</td>\n",
              "    </tr>\n",
              "    <tr>\n",
              "      <th>14</th>\n",
              "      <td>20</td>\n",
              "      <td>1</td>\n",
              "      <td>ชาย</td>\n",
              "      <td>มากกว่า 8 ชั่วโมง</td>\n",
              "      <td>1</td>\n",
              "    </tr>\n",
              "    <tr>\n",
              "      <th>15</th>\n",
              "      <td>20</td>\n",
              "      <td>1</td>\n",
              "      <td>ชาย</td>\n",
              "      <td>มากกว่า 8 ชั่วโมง</td>\n",
              "      <td>1</td>\n",
              "    </tr>\n",
              "    <tr>\n",
              "      <th>16</th>\n",
              "      <td>22</td>\n",
              "      <td>1</td>\n",
              "      <td>หญิง</td>\n",
              "      <td>4 - 8 ชั่วโมง</td>\n",
              "      <td>1</td>\n",
              "    </tr>\n",
              "    <tr>\n",
              "      <th>17</th>\n",
              "      <td>21</td>\n",
              "      <td>1</td>\n",
              "      <td>หญิง</td>\n",
              "      <td>4 - 8 ชั่วโมง</td>\n",
              "      <td>1</td>\n",
              "    </tr>\n",
              "    <tr>\n",
              "      <th>18</th>\n",
              "      <td>25</td>\n",
              "      <td>1</td>\n",
              "      <td>หญิง</td>\n",
              "      <td>4 - 8 ชั่วโมง</td>\n",
              "      <td>1</td>\n",
              "    </tr>\n",
              "    <tr>\n",
              "      <th>19</th>\n",
              "      <td>24</td>\n",
              "      <td>1</td>\n",
              "      <td>หญิง</td>\n",
              "      <td>4 - 8 ชั่วโมง</td>\n",
              "      <td>1</td>\n",
              "    </tr>\n",
              "    <tr>\n",
              "      <th>20</th>\n",
              "      <td>19</td>\n",
              "      <td>1</td>\n",
              "      <td>หญิง</td>\n",
              "      <td>4 - 8 ชั่วโมง</td>\n",
              "      <td>0</td>\n",
              "    </tr>\n",
              "    <tr>\n",
              "      <th>21</th>\n",
              "      <td>19</td>\n",
              "      <td>1</td>\n",
              "      <td>หญิง</td>\n",
              "      <td>1 - 4 ชั่วโมง</td>\n",
              "      <td>0</td>\n",
              "    </tr>\n",
              "    <tr>\n",
              "      <th>22</th>\n",
              "      <td>26</td>\n",
              "      <td>1</td>\n",
              "      <td>หญิง</td>\n",
              "      <td>1 - 4 ชั่วโมง</td>\n",
              "      <td>1</td>\n",
              "    </tr>\n",
              "    <tr>\n",
              "      <th>23</th>\n",
              "      <td>21</td>\n",
              "      <td>1</td>\n",
              "      <td>หญิง</td>\n",
              "      <td>1 - 4 ชั่วโมง</td>\n",
              "      <td>1</td>\n",
              "    </tr>\n",
              "    <tr>\n",
              "      <th>24</th>\n",
              "      <td>46</td>\n",
              "      <td>1</td>\n",
              "      <td>หญิง</td>\n",
              "      <td>1 - 4 ชั่วโมง</td>\n",
              "      <td>1</td>\n",
              "    </tr>\n",
              "    <tr>\n",
              "      <th>25</th>\n",
              "      <td>59</td>\n",
              "      <td>1</td>\n",
              "      <td>หญิง</td>\n",
              "      <td>1 - 4 ชั่วโมง</td>\n",
              "      <td>0</td>\n",
              "    </tr>\n",
              "    <tr>\n",
              "      <th>26</th>\n",
              "      <td>45</td>\n",
              "      <td>1</td>\n",
              "      <td>หญิง</td>\n",
              "      <td>4 - 8 ชั่วโมง</td>\n",
              "      <td>0</td>\n",
              "    </tr>\n",
              "    <tr>\n",
              "      <th>27</th>\n",
              "      <td>30</td>\n",
              "      <td>1</td>\n",
              "      <td>หญิง</td>\n",
              "      <td>มากกว่า 8 ชั่วโมง</td>\n",
              "      <td>1</td>\n",
              "    </tr>\n",
              "    <tr>\n",
              "      <th>28</th>\n",
              "      <td>22</td>\n",
              "      <td>1</td>\n",
              "      <td>หญิง</td>\n",
              "      <td>4 - 8 ชั่วโมง</td>\n",
              "      <td>1</td>\n",
              "    </tr>\n",
              "    <tr>\n",
              "      <th>29</th>\n",
              "      <td>20</td>\n",
              "      <td>1</td>\n",
              "      <td>ชาย</td>\n",
              "      <td>4 - 8 ชั่วโมง</td>\n",
              "      <td>1</td>\n",
              "    </tr>\n",
              "  </tbody>\n",
              "</table>\n",
              "</div>"
            ],
            "text/plain": [
              "    Age  Education Gender TimeForInternet(hour/day)  DeleteCookie\n",
              "0    20          1   หญิง         มากกว่า 8 ชั่วโมง             1\n",
              "1    20          1   หญิง             4 - 8 ชั่วโมง             1\n",
              "2    21          1   หญิง         มากกว่า 8 ชั่วโมง             1\n",
              "3    20          1   หญิง             4 - 8 ชั่วโมง             1\n",
              "4    21          1   หญิง             1 - 4 ชั่วโมง             1\n",
              "5    20          1   หญิง         มากกว่า 8 ชั่วโมง             0\n",
              "6    21          1   หญิง         มากกว่า 8 ชั่วโมง             1\n",
              "7    20          1   หญิง         มากกว่า 8 ชั่วโมง             1\n",
              "8    20          1   หญิง         มากกว่า 8 ชั่วโมง             1\n",
              "9    20          1   หญิง             4 - 8 ชั่วโมง             1\n",
              "10   21          1   หญิง         มากกว่า 8 ชั่วโมง             1\n",
              "11   21          1    ชาย         มากกว่า 8 ชั่วโมง             0\n",
              "12   21          1    ชาย         มากกว่า 8 ชั่วโมง             1\n",
              "13   19          1    ชาย             4 - 8 ชั่วโมง             1\n",
              "14   20          1    ชาย         มากกว่า 8 ชั่วโมง             1\n",
              "15   20          1    ชาย         มากกว่า 8 ชั่วโมง             1\n",
              "16   22          1   หญิง             4 - 8 ชั่วโมง             1\n",
              "17   21          1   หญิง             4 - 8 ชั่วโมง             1\n",
              "18   25          1   หญิง             4 - 8 ชั่วโมง             1\n",
              "19   24          1   หญิง             4 - 8 ชั่วโมง             1\n",
              "20   19          1   หญิง             4 - 8 ชั่วโมง             0\n",
              "21   19          1   หญิง             1 - 4 ชั่วโมง             0\n",
              "22   26          1   หญิง             1 - 4 ชั่วโมง             1\n",
              "23   21          1   หญิง             1 - 4 ชั่วโมง             1\n",
              "24   46          1   หญิง             1 - 4 ชั่วโมง             1\n",
              "25   59          1   หญิง             1 - 4 ชั่วโมง             0\n",
              "26   45          1   หญิง             4 - 8 ชั่วโมง             0\n",
              "27   30          1   หญิง         มากกว่า 8 ชั่วโมง             1\n",
              "28   22          1   หญิง             4 - 8 ชั่วโมง             1\n",
              "29   20          1    ชาย             4 - 8 ชั่วโมง             1"
            ]
          },
          "metadata": {
            "tags": []
          },
          "execution_count": 368
        }
      ]
    },
    {
      "cell_type": "code",
      "metadata": {
        "id": "EF5aeqmLi1ST"
      },
      "source": [
        "df.rename(columns={'TimeForInternet(hour/day)':'TFIN'}, inplace=True)"
      ],
      "execution_count": null,
      "outputs": []
    },
    {
      "cell_type": "code",
      "metadata": {
        "colab": {
          "base_uri": "https://localhost:8080/"
        },
        "id": "eSxTaNFIi1VZ",
        "outputId": "fed7f6f0-d832-416d-aae1-609536037e6e"
      },
      "source": [
        "df.columns"
      ],
      "execution_count": null,
      "outputs": [
        {
          "output_type": "execute_result",
          "data": {
            "text/plain": [
              "Index(['Age', 'Education', 'Gender', 'TFIN', 'DeleteCookie'], dtype='object')"
            ]
          },
          "metadata": {
            "tags": []
          },
          "execution_count": 370
        }
      ]
    },
    {
      "cell_type": "code",
      "metadata": {
        "id": "9HoXAg89i1Ye"
      },
      "source": [
        "\n"
      ],
      "execution_count": null,
      "outputs": []
    },
    {
      "cell_type": "code",
      "metadata": {
        "colab": {
          "base_uri": "https://localhost:8080/",
          "height": 935
        },
        "id": "yw_ELdKui1a3",
        "outputId": "95b64873-50fa-4be3-cc8f-a943fcb9eff6"
      },
      "source": [
        "df.head(30)"
      ],
      "execution_count": null,
      "outputs": [
        {
          "output_type": "execute_result",
          "data": {
            "text/html": [
              "<div>\n",
              "<style scoped>\n",
              "    .dataframe tbody tr th:only-of-type {\n",
              "        vertical-align: middle;\n",
              "    }\n",
              "\n",
              "    .dataframe tbody tr th {\n",
              "        vertical-align: top;\n",
              "    }\n",
              "\n",
              "    .dataframe thead th {\n",
              "        text-align: right;\n",
              "    }\n",
              "</style>\n",
              "<table border=\"1\" class=\"dataframe\">\n",
              "  <thead>\n",
              "    <tr style=\"text-align: right;\">\n",
              "      <th></th>\n",
              "      <th>Age</th>\n",
              "      <th>Education</th>\n",
              "      <th>Gender</th>\n",
              "      <th>TFIN</th>\n",
              "      <th>DeleteCookie</th>\n",
              "    </tr>\n",
              "  </thead>\n",
              "  <tbody>\n",
              "    <tr>\n",
              "      <th>0</th>\n",
              "      <td>20</td>\n",
              "      <td>1</td>\n",
              "      <td>หญิง</td>\n",
              "      <td>มากกว่า 8 ชั่วโมง</td>\n",
              "      <td>1</td>\n",
              "    </tr>\n",
              "    <tr>\n",
              "      <th>1</th>\n",
              "      <td>20</td>\n",
              "      <td>1</td>\n",
              "      <td>หญิง</td>\n",
              "      <td>4 - 8 ชั่วโมง</td>\n",
              "      <td>1</td>\n",
              "    </tr>\n",
              "    <tr>\n",
              "      <th>2</th>\n",
              "      <td>21</td>\n",
              "      <td>1</td>\n",
              "      <td>หญิง</td>\n",
              "      <td>มากกว่า 8 ชั่วโมง</td>\n",
              "      <td>1</td>\n",
              "    </tr>\n",
              "    <tr>\n",
              "      <th>3</th>\n",
              "      <td>20</td>\n",
              "      <td>1</td>\n",
              "      <td>หญิง</td>\n",
              "      <td>4 - 8 ชั่วโมง</td>\n",
              "      <td>1</td>\n",
              "    </tr>\n",
              "    <tr>\n",
              "      <th>4</th>\n",
              "      <td>21</td>\n",
              "      <td>1</td>\n",
              "      <td>หญิง</td>\n",
              "      <td>1 - 4 ชั่วโมง</td>\n",
              "      <td>1</td>\n",
              "    </tr>\n",
              "    <tr>\n",
              "      <th>5</th>\n",
              "      <td>20</td>\n",
              "      <td>1</td>\n",
              "      <td>หญิง</td>\n",
              "      <td>มากกว่า 8 ชั่วโมง</td>\n",
              "      <td>0</td>\n",
              "    </tr>\n",
              "    <tr>\n",
              "      <th>6</th>\n",
              "      <td>21</td>\n",
              "      <td>1</td>\n",
              "      <td>หญิง</td>\n",
              "      <td>มากกว่า 8 ชั่วโมง</td>\n",
              "      <td>1</td>\n",
              "    </tr>\n",
              "    <tr>\n",
              "      <th>7</th>\n",
              "      <td>20</td>\n",
              "      <td>1</td>\n",
              "      <td>หญิง</td>\n",
              "      <td>มากกว่า 8 ชั่วโมง</td>\n",
              "      <td>1</td>\n",
              "    </tr>\n",
              "    <tr>\n",
              "      <th>8</th>\n",
              "      <td>20</td>\n",
              "      <td>1</td>\n",
              "      <td>หญิง</td>\n",
              "      <td>มากกว่า 8 ชั่วโมง</td>\n",
              "      <td>1</td>\n",
              "    </tr>\n",
              "    <tr>\n",
              "      <th>9</th>\n",
              "      <td>20</td>\n",
              "      <td>1</td>\n",
              "      <td>หญิง</td>\n",
              "      <td>4 - 8 ชั่วโมง</td>\n",
              "      <td>1</td>\n",
              "    </tr>\n",
              "    <tr>\n",
              "      <th>10</th>\n",
              "      <td>21</td>\n",
              "      <td>1</td>\n",
              "      <td>หญิง</td>\n",
              "      <td>มากกว่า 8 ชั่วโมง</td>\n",
              "      <td>1</td>\n",
              "    </tr>\n",
              "    <tr>\n",
              "      <th>11</th>\n",
              "      <td>21</td>\n",
              "      <td>1</td>\n",
              "      <td>ชาย</td>\n",
              "      <td>มากกว่า 8 ชั่วโมง</td>\n",
              "      <td>0</td>\n",
              "    </tr>\n",
              "    <tr>\n",
              "      <th>12</th>\n",
              "      <td>21</td>\n",
              "      <td>1</td>\n",
              "      <td>ชาย</td>\n",
              "      <td>มากกว่า 8 ชั่วโมง</td>\n",
              "      <td>1</td>\n",
              "    </tr>\n",
              "    <tr>\n",
              "      <th>13</th>\n",
              "      <td>19</td>\n",
              "      <td>1</td>\n",
              "      <td>ชาย</td>\n",
              "      <td>4 - 8 ชั่วโมง</td>\n",
              "      <td>1</td>\n",
              "    </tr>\n",
              "    <tr>\n",
              "      <th>14</th>\n",
              "      <td>20</td>\n",
              "      <td>1</td>\n",
              "      <td>ชาย</td>\n",
              "      <td>มากกว่า 8 ชั่วโมง</td>\n",
              "      <td>1</td>\n",
              "    </tr>\n",
              "    <tr>\n",
              "      <th>15</th>\n",
              "      <td>20</td>\n",
              "      <td>1</td>\n",
              "      <td>ชาย</td>\n",
              "      <td>มากกว่า 8 ชั่วโมง</td>\n",
              "      <td>1</td>\n",
              "    </tr>\n",
              "    <tr>\n",
              "      <th>16</th>\n",
              "      <td>22</td>\n",
              "      <td>1</td>\n",
              "      <td>หญิง</td>\n",
              "      <td>4 - 8 ชั่วโมง</td>\n",
              "      <td>1</td>\n",
              "    </tr>\n",
              "    <tr>\n",
              "      <th>17</th>\n",
              "      <td>21</td>\n",
              "      <td>1</td>\n",
              "      <td>หญิง</td>\n",
              "      <td>4 - 8 ชั่วโมง</td>\n",
              "      <td>1</td>\n",
              "    </tr>\n",
              "    <tr>\n",
              "      <th>18</th>\n",
              "      <td>25</td>\n",
              "      <td>1</td>\n",
              "      <td>หญิง</td>\n",
              "      <td>4 - 8 ชั่วโมง</td>\n",
              "      <td>1</td>\n",
              "    </tr>\n",
              "    <tr>\n",
              "      <th>19</th>\n",
              "      <td>24</td>\n",
              "      <td>1</td>\n",
              "      <td>หญิง</td>\n",
              "      <td>4 - 8 ชั่วโมง</td>\n",
              "      <td>1</td>\n",
              "    </tr>\n",
              "    <tr>\n",
              "      <th>20</th>\n",
              "      <td>19</td>\n",
              "      <td>1</td>\n",
              "      <td>หญิง</td>\n",
              "      <td>4 - 8 ชั่วโมง</td>\n",
              "      <td>0</td>\n",
              "    </tr>\n",
              "    <tr>\n",
              "      <th>21</th>\n",
              "      <td>19</td>\n",
              "      <td>1</td>\n",
              "      <td>หญิง</td>\n",
              "      <td>1 - 4 ชั่วโมง</td>\n",
              "      <td>0</td>\n",
              "    </tr>\n",
              "    <tr>\n",
              "      <th>22</th>\n",
              "      <td>26</td>\n",
              "      <td>1</td>\n",
              "      <td>หญิง</td>\n",
              "      <td>1 - 4 ชั่วโมง</td>\n",
              "      <td>1</td>\n",
              "    </tr>\n",
              "    <tr>\n",
              "      <th>23</th>\n",
              "      <td>21</td>\n",
              "      <td>1</td>\n",
              "      <td>หญิง</td>\n",
              "      <td>1 - 4 ชั่วโมง</td>\n",
              "      <td>1</td>\n",
              "    </tr>\n",
              "    <tr>\n",
              "      <th>24</th>\n",
              "      <td>46</td>\n",
              "      <td>1</td>\n",
              "      <td>หญิง</td>\n",
              "      <td>1 - 4 ชั่วโมง</td>\n",
              "      <td>1</td>\n",
              "    </tr>\n",
              "    <tr>\n",
              "      <th>25</th>\n",
              "      <td>59</td>\n",
              "      <td>1</td>\n",
              "      <td>หญิง</td>\n",
              "      <td>1 - 4 ชั่วโมง</td>\n",
              "      <td>0</td>\n",
              "    </tr>\n",
              "    <tr>\n",
              "      <th>26</th>\n",
              "      <td>45</td>\n",
              "      <td>1</td>\n",
              "      <td>หญิง</td>\n",
              "      <td>4 - 8 ชั่วโมง</td>\n",
              "      <td>0</td>\n",
              "    </tr>\n",
              "    <tr>\n",
              "      <th>27</th>\n",
              "      <td>30</td>\n",
              "      <td>1</td>\n",
              "      <td>หญิง</td>\n",
              "      <td>มากกว่า 8 ชั่วโมง</td>\n",
              "      <td>1</td>\n",
              "    </tr>\n",
              "    <tr>\n",
              "      <th>28</th>\n",
              "      <td>22</td>\n",
              "      <td>1</td>\n",
              "      <td>หญิง</td>\n",
              "      <td>4 - 8 ชั่วโมง</td>\n",
              "      <td>1</td>\n",
              "    </tr>\n",
              "    <tr>\n",
              "      <th>29</th>\n",
              "      <td>20</td>\n",
              "      <td>1</td>\n",
              "      <td>ชาย</td>\n",
              "      <td>4 - 8 ชั่วโมง</td>\n",
              "      <td>1</td>\n",
              "    </tr>\n",
              "  </tbody>\n",
              "</table>\n",
              "</div>"
            ],
            "text/plain": [
              "    Age  Education Gender               TFIN  DeleteCookie\n",
              "0    20          1   หญิง  มากกว่า 8 ชั่วโมง             1\n",
              "1    20          1   หญิง      4 - 8 ชั่วโมง             1\n",
              "2    21          1   หญิง  มากกว่า 8 ชั่วโมง             1\n",
              "3    20          1   หญิง      4 - 8 ชั่วโมง             1\n",
              "4    21          1   หญิง      1 - 4 ชั่วโมง             1\n",
              "5    20          1   หญิง  มากกว่า 8 ชั่วโมง             0\n",
              "6    21          1   หญิง  มากกว่า 8 ชั่วโมง             1\n",
              "7    20          1   หญิง  มากกว่า 8 ชั่วโมง             1\n",
              "8    20          1   หญิง  มากกว่า 8 ชั่วโมง             1\n",
              "9    20          1   หญิง      4 - 8 ชั่วโมง             1\n",
              "10   21          1   หญิง  มากกว่า 8 ชั่วโมง             1\n",
              "11   21          1    ชาย  มากกว่า 8 ชั่วโมง             0\n",
              "12   21          1    ชาย  มากกว่า 8 ชั่วโมง             1\n",
              "13   19          1    ชาย      4 - 8 ชั่วโมง             1\n",
              "14   20          1    ชาย  มากกว่า 8 ชั่วโมง             1\n",
              "15   20          1    ชาย  มากกว่า 8 ชั่วโมง             1\n",
              "16   22          1   หญิง      4 - 8 ชั่วโมง             1\n",
              "17   21          1   หญิง      4 - 8 ชั่วโมง             1\n",
              "18   25          1   หญิง      4 - 8 ชั่วโมง             1\n",
              "19   24          1   หญิง      4 - 8 ชั่วโมง             1\n",
              "20   19          1   หญิง      4 - 8 ชั่วโมง             0\n",
              "21   19          1   หญิง      1 - 4 ชั่วโมง             0\n",
              "22   26          1   หญิง      1 - 4 ชั่วโมง             1\n",
              "23   21          1   หญิง      1 - 4 ชั่วโมง             1\n",
              "24   46          1   หญิง      1 - 4 ชั่วโมง             1\n",
              "25   59          1   หญิง      1 - 4 ชั่วโมง             0\n",
              "26   45          1   หญิง      4 - 8 ชั่วโมง             0\n",
              "27   30          1   หญิง  มากกว่า 8 ชั่วโมง             1\n",
              "28   22          1   หญิง      4 - 8 ชั่วโมง             1\n",
              "29   20          1    ชาย      4 - 8 ชั่วโมง             1"
            ]
          },
          "metadata": {
            "tags": []
          },
          "execution_count": 371
        }
      ]
    },
    {
      "cell_type": "code",
      "metadata": {
        "id": "GdyQEC-Dq4eM",
        "colab": {
          "base_uri": "https://localhost:8080/"
        },
        "outputId": "80320292-ed13-4b0b-c022-f73f2e978660"
      },
      "source": [
        "df['DeleteCookie'].value_counts()"
      ],
      "execution_count": null,
      "outputs": [
        {
          "output_type": "execute_result",
          "data": {
            "text/plain": [
              "1    66\n",
              "0    36\n",
              "Name: DeleteCookie, dtype: int64"
            ]
          },
          "metadata": {
            "tags": []
          },
          "execution_count": 372
        }
      ]
    },
    {
      "cell_type": "code",
      "metadata": {
        "id": "l5XuLq8-q4rI"
      },
      "source": [
        "df['TFIN'] = df.loc[:, 'TFIN'].replace(['มากกว่า 8 ชั่วโมง','1 - 4 ชั่วโมง','4 - 8 ชั่วโมง' ], [1,0,1])"
      ],
      "execution_count": null,
      "outputs": []
    },
    {
      "cell_type": "code",
      "metadata": {
        "colab": {
          "base_uri": "https://localhost:8080/",
          "height": 343
        },
        "id": "2AGF7QA-q41z",
        "outputId": "b96714a5-3785-4cb1-bf85-f109b6fdc80e"
      },
      "source": [
        "df.head(10)"
      ],
      "execution_count": null,
      "outputs": [
        {
          "output_type": "execute_result",
          "data": {
            "text/html": [
              "<div>\n",
              "<style scoped>\n",
              "    .dataframe tbody tr th:only-of-type {\n",
              "        vertical-align: middle;\n",
              "    }\n",
              "\n",
              "    .dataframe tbody tr th {\n",
              "        vertical-align: top;\n",
              "    }\n",
              "\n",
              "    .dataframe thead th {\n",
              "        text-align: right;\n",
              "    }\n",
              "</style>\n",
              "<table border=\"1\" class=\"dataframe\">\n",
              "  <thead>\n",
              "    <tr style=\"text-align: right;\">\n",
              "      <th></th>\n",
              "      <th>Age</th>\n",
              "      <th>Education</th>\n",
              "      <th>Gender</th>\n",
              "      <th>TFIN</th>\n",
              "      <th>DeleteCookie</th>\n",
              "    </tr>\n",
              "  </thead>\n",
              "  <tbody>\n",
              "    <tr>\n",
              "      <th>0</th>\n",
              "      <td>20</td>\n",
              "      <td>1</td>\n",
              "      <td>หญิง</td>\n",
              "      <td>1</td>\n",
              "      <td>1</td>\n",
              "    </tr>\n",
              "    <tr>\n",
              "      <th>1</th>\n",
              "      <td>20</td>\n",
              "      <td>1</td>\n",
              "      <td>หญิง</td>\n",
              "      <td>1</td>\n",
              "      <td>1</td>\n",
              "    </tr>\n",
              "    <tr>\n",
              "      <th>2</th>\n",
              "      <td>21</td>\n",
              "      <td>1</td>\n",
              "      <td>หญิง</td>\n",
              "      <td>1</td>\n",
              "      <td>1</td>\n",
              "    </tr>\n",
              "    <tr>\n",
              "      <th>3</th>\n",
              "      <td>20</td>\n",
              "      <td>1</td>\n",
              "      <td>หญิง</td>\n",
              "      <td>1</td>\n",
              "      <td>1</td>\n",
              "    </tr>\n",
              "    <tr>\n",
              "      <th>4</th>\n",
              "      <td>21</td>\n",
              "      <td>1</td>\n",
              "      <td>หญิง</td>\n",
              "      <td>0</td>\n",
              "      <td>1</td>\n",
              "    </tr>\n",
              "    <tr>\n",
              "      <th>5</th>\n",
              "      <td>20</td>\n",
              "      <td>1</td>\n",
              "      <td>หญิง</td>\n",
              "      <td>1</td>\n",
              "      <td>0</td>\n",
              "    </tr>\n",
              "    <tr>\n",
              "      <th>6</th>\n",
              "      <td>21</td>\n",
              "      <td>1</td>\n",
              "      <td>หญิง</td>\n",
              "      <td>1</td>\n",
              "      <td>1</td>\n",
              "    </tr>\n",
              "    <tr>\n",
              "      <th>7</th>\n",
              "      <td>20</td>\n",
              "      <td>1</td>\n",
              "      <td>หญิง</td>\n",
              "      <td>1</td>\n",
              "      <td>1</td>\n",
              "    </tr>\n",
              "    <tr>\n",
              "      <th>8</th>\n",
              "      <td>20</td>\n",
              "      <td>1</td>\n",
              "      <td>หญิง</td>\n",
              "      <td>1</td>\n",
              "      <td>1</td>\n",
              "    </tr>\n",
              "    <tr>\n",
              "      <th>9</th>\n",
              "      <td>20</td>\n",
              "      <td>1</td>\n",
              "      <td>หญิง</td>\n",
              "      <td>1</td>\n",
              "      <td>1</td>\n",
              "    </tr>\n",
              "  </tbody>\n",
              "</table>\n",
              "</div>"
            ],
            "text/plain": [
              "   Age  Education Gender  TFIN  DeleteCookie\n",
              "0   20          1   หญิง     1             1\n",
              "1   20          1   หญิง     1             1\n",
              "2   21          1   หญิง     1             1\n",
              "3   20          1   หญิง     1             1\n",
              "4   21          1   หญิง     0             1\n",
              "5   20          1   หญิง     1             0\n",
              "6   21          1   หญิง     1             1\n",
              "7   20          1   หญิง     1             1\n",
              "8   20          1   หญิง     1             1\n",
              "9   20          1   หญิง     1             1"
            ]
          },
          "metadata": {
            "tags": []
          },
          "execution_count": 374
        }
      ]
    },
    {
      "cell_type": "code",
      "metadata": {
        "colab": {
          "base_uri": "https://localhost:8080/"
        },
        "id": "01eEQ8Uw2njD",
        "outputId": "d807651a-11d4-4344-aa67-46b80557d6d4"
      },
      "source": [
        "df['TFIN'].value_counts()"
      ],
      "execution_count": null,
      "outputs": [
        {
          "output_type": "execute_result",
          "data": {
            "text/plain": [
              "1    70\n",
              "0    32\n",
              "Name: TFIN, dtype: int64"
            ]
          },
          "metadata": {
            "tags": []
          },
          "execution_count": 375
        }
      ]
    },
    {
      "cell_type": "code",
      "metadata": {
        "colab": {
          "base_uri": "https://localhost:8080/",
          "height": 166
        },
        "id": "OtlT9gTLq47s",
        "outputId": "febeda0f-4e59-4e90-ce73-1103278d9e86"
      },
      "source": [
        "df.corr()"
      ],
      "execution_count": null,
      "outputs": [
        {
          "output_type": "execute_result",
          "data": {
            "text/html": [
              "<div>\n",
              "<style scoped>\n",
              "    .dataframe tbody tr th:only-of-type {\n",
              "        vertical-align: middle;\n",
              "    }\n",
              "\n",
              "    .dataframe tbody tr th {\n",
              "        vertical-align: top;\n",
              "    }\n",
              "\n",
              "    .dataframe thead th {\n",
              "        text-align: right;\n",
              "    }\n",
              "</style>\n",
              "<table border=\"1\" class=\"dataframe\">\n",
              "  <thead>\n",
              "    <tr style=\"text-align: right;\">\n",
              "      <th></th>\n",
              "      <th>Age</th>\n",
              "      <th>Education</th>\n",
              "      <th>TFIN</th>\n",
              "      <th>DeleteCookie</th>\n",
              "    </tr>\n",
              "  </thead>\n",
              "  <tbody>\n",
              "    <tr>\n",
              "      <th>Age</th>\n",
              "      <td>1.000000</td>\n",
              "      <td>-0.520851</td>\n",
              "      <td>-0.549358</td>\n",
              "      <td>-0.520851</td>\n",
              "    </tr>\n",
              "    <tr>\n",
              "      <th>Education</th>\n",
              "      <td>-0.520851</td>\n",
              "      <td>1.000000</td>\n",
              "      <td>0.605982</td>\n",
              "      <td>0.699495</td>\n",
              "    </tr>\n",
              "    <tr>\n",
              "      <th>TFIN</th>\n",
              "      <td>-0.549358</td>\n",
              "      <td>0.605982</td>\n",
              "      <td>1.000000</td>\n",
              "      <td>0.561769</td>\n",
              "    </tr>\n",
              "    <tr>\n",
              "      <th>DeleteCookie</th>\n",
              "      <td>-0.520851</td>\n",
              "      <td>0.699495</td>\n",
              "      <td>0.561769</td>\n",
              "      <td>1.000000</td>\n",
              "    </tr>\n",
              "  </tbody>\n",
              "</table>\n",
              "</div>"
            ],
            "text/plain": [
              "                   Age  Education      TFIN  DeleteCookie\n",
              "Age           1.000000  -0.520851 -0.549358     -0.520851\n",
              "Education    -0.520851   1.000000  0.605982      0.699495\n",
              "TFIN         -0.549358   0.605982  1.000000      0.561769\n",
              "DeleteCookie -0.520851   0.699495  0.561769      1.000000"
            ]
          },
          "metadata": {
            "tags": []
          },
          "execution_count": 376
        }
      ]
    },
    {
      "cell_type": "code",
      "metadata": {
        "colab": {
          "base_uri": "https://localhost:8080/",
          "height": 446
        },
        "id": "vTWn5-awzAml",
        "outputId": "522e74c0-5b12-45d1-b1ff-7fd863e1a02b"
      },
      "source": [
        "model = smf.ols(formula='DeleteCookie~Education+Age', data=df).fit()\n",
        "model.summary()"
      ],
      "execution_count": null,
      "outputs": [
        {
          "output_type": "execute_result",
          "data": {
            "text/html": [
              "<table class=\"simpletable\">\n",
              "<caption>OLS Regression Results</caption>\n",
              "<tr>\n",
              "  <th>Dep. Variable:</th>      <td>DeleteCookie</td>   <th>  R-squared:         </th> <td>   0.523</td>\n",
              "</tr>\n",
              "<tr>\n",
              "  <th>Model:</th>                   <td>OLS</td>       <th>  Adj. R-squared:    </th> <td>   0.513</td>\n",
              "</tr>\n",
              "<tr>\n",
              "  <th>Method:</th>             <td>Least Squares</td>  <th>  F-statistic:       </th> <td>   54.25</td>\n",
              "</tr>\n",
              "<tr>\n",
              "  <th>Date:</th>             <td>Fri, 20 Nov 2020</td> <th>  Prob (F-statistic):</th> <td>1.23e-16</td>\n",
              "</tr>\n",
              "<tr>\n",
              "  <th>Time:</th>                 <td>13:30:03</td>     <th>  Log-Likelihood:    </th> <td> -31.674</td>\n",
              "</tr>\n",
              "<tr>\n",
              "  <th>No. Observations:</th>      <td>   102</td>      <th>  AIC:               </th> <td>   69.35</td>\n",
              "</tr>\n",
              "<tr>\n",
              "  <th>Df Residuals:</th>          <td>    99</td>      <th>  BIC:               </th> <td>   77.22</td>\n",
              "</tr>\n",
              "<tr>\n",
              "  <th>Df Model:</th>              <td>     2</td>      <th>                     </th>     <td> </td>   \n",
              "</tr>\n",
              "<tr>\n",
              "  <th>Covariance Type:</th>      <td>nonrobust</td>    <th>                     </th>     <td> </td>   \n",
              "</tr>\n",
              "</table>\n",
              "<table class=\"simpletable\">\n",
              "<tr>\n",
              "      <td></td>         <th>coef</th>     <th>std err</th>      <th>t</th>      <th>P>|t|</th>  <th>[0.025</th>    <th>0.975]</th>  \n",
              "</tr>\n",
              "<tr>\n",
              "  <th>Intercept</th> <td>    0.5295</td> <td>    0.139</td> <td>    3.820</td> <td> 0.000</td> <td>    0.254</td> <td>    0.805</td>\n",
              "</tr>\n",
              "<tr>\n",
              "  <th>Education</th> <td>    0.5876</td> <td>    0.081</td> <td>    7.226</td> <td> 0.000</td> <td>    0.426</td> <td>    0.749</td>\n",
              "</tr>\n",
              "<tr>\n",
              "  <th>Age</th>       <td>   -0.0080</td> <td>    0.003</td> <td>   -2.641</td> <td> 0.010</td> <td>   -0.014</td> <td>   -0.002</td>\n",
              "</tr>\n",
              "</table>\n",
              "<table class=\"simpletable\">\n",
              "<tr>\n",
              "  <th>Omnibus:</th>       <td>13.245</td> <th>  Durbin-Watson:     </th> <td>   1.738</td>\n",
              "</tr>\n",
              "<tr>\n",
              "  <th>Prob(Omnibus):</th> <td> 0.001</td> <th>  Jarque-Bera (JB):  </th> <td>  27.868</td>\n",
              "</tr>\n",
              "<tr>\n",
              "  <th>Skew:</th>          <td>-0.432</td> <th>  Prob(JB):          </th> <td>8.88e-07</td>\n",
              "</tr>\n",
              "<tr>\n",
              "  <th>Kurtosis:</th>      <td> 5.411</td> <th>  Cond. No.          </th> <td>    164.</td>\n",
              "</tr>\n",
              "</table><br/><br/>Warnings:<br/>[1] Standard Errors assume that the covariance matrix of the errors is correctly specified."
            ],
            "text/plain": [
              "<class 'statsmodels.iolib.summary.Summary'>\n",
              "\"\"\"\n",
              "                            OLS Regression Results                            \n",
              "==============================================================================\n",
              "Dep. Variable:           DeleteCookie   R-squared:                       0.523\n",
              "Model:                            OLS   Adj. R-squared:                  0.513\n",
              "Method:                 Least Squares   F-statistic:                     54.25\n",
              "Date:                Fri, 20 Nov 2020   Prob (F-statistic):           1.23e-16\n",
              "Time:                        13:30:03   Log-Likelihood:                -31.674\n",
              "No. Observations:                 102   AIC:                             69.35\n",
              "Df Residuals:                      99   BIC:                             77.22\n",
              "Df Model:                           2                                         \n",
              "Covariance Type:            nonrobust                                         \n",
              "==============================================================================\n",
              "                 coef    std err          t      P>|t|      [0.025      0.975]\n",
              "------------------------------------------------------------------------------\n",
              "Intercept      0.5295      0.139      3.820      0.000       0.254       0.805\n",
              "Education      0.5876      0.081      7.226      0.000       0.426       0.749\n",
              "Age           -0.0080      0.003     -2.641      0.010      -0.014      -0.002\n",
              "==============================================================================\n",
              "Omnibus:                       13.245   Durbin-Watson:                   1.738\n",
              "Prob(Omnibus):                  0.001   Jarque-Bera (JB):               27.868\n",
              "Skew:                          -0.432   Prob(JB):                     8.88e-07\n",
              "Kurtosis:                       5.411   Cond. No.                         164.\n",
              "==============================================================================\n",
              "\n",
              "Warnings:\n",
              "[1] Standard Errors assume that the covariance matrix of the errors is correctly specified.\n",
              "\"\"\""
            ]
          },
          "metadata": {
            "tags": []
          },
          "execution_count": 380
        }
      ]
    },
    {
      "cell_type": "code",
      "metadata": {
        "id": "Ua8gTinlzAtb",
        "colab": {
          "base_uri": "https://localhost:8080/"
        },
        "outputId": "103e5588-49a0-450c-e7e6-d1bae6efeb7e"
      },
      "source": [
        "\n",
        "model.params"
      ],
      "execution_count": null,
      "outputs": [
        {
          "output_type": "execute_result",
          "data": {
            "text/plain": [
              "Intercept         0.448558\n",
              "Gender[T.หญิง]   -0.050254\n",
              "Education         0.526331\n",
              "TFIN              0.150013\n",
              "Age              -0.006535\n",
              "dtype: float64"
            ]
          },
          "metadata": {
            "tags": []
          },
          "execution_count": 378
        }
      ]
    },
    {
      "cell_type": "markdown",
      "metadata": {
        "id": "7F5ZBO05VKF_"
      },
      "source": [
        "สมการ Linear Regression คือ ความน่าจะเป็นที่จะลบคุกกี้ = 0.125871+0.567448(Education)+0.224429(TFIN) \n",
        "\n"
      ]
    },
    {
      "cell_type": "code",
      "metadata": {
        "id": "7ydzV81uzAwX"
      },
      "source": [
        ""
      ],
      "execution_count": null,
      "outputs": []
    },
    {
      "cell_type": "code",
      "metadata": {
        "id": "y3rQNok_zA0a"
      },
      "source": [
        ""
      ],
      "execution_count": null,
      "outputs": []
    },
    {
      "cell_type": "code",
      "metadata": {
        "id": "DG6j8UWtzA2_"
      },
      "source": [
        ""
      ],
      "execution_count": null,
      "outputs": []
    }
  ]
}
